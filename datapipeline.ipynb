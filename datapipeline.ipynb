{
 "cells": [
  {
   "cell_type": "code",
   "execution_count": 2,
   "metadata": {},
   "outputs": [],
   "source": [
    "%load_ext autoreload\n",
    "%autoreload 2"
   ]
  },
  {
   "cell_type": "code",
   "execution_count": 3,
   "metadata": {},
   "outputs": [],
   "source": [
    "import sys\n",
    "import spotipy\n",
    "import spotipy.util as util\n",
    "import json\n",
    "import time\n",
    "import urllib.request\n",
    "\n",
    "import pandas as pd"
   ]
  },
  {
   "cell_type": "code",
   "execution_count": 4,
   "metadata": {},
   "outputs": [],
   "source": [
    "def generate_token():\n",
    "    with open('configs.secret') as f:\n",
    "        data = json.load(f)\n",
    "\n",
    "    #scope = 'user-library-read'\n",
    "    scope = None\n",
    "    username = data['username']\n",
    "    client_id = data['client_id']\n",
    "    client_secret = data['client_secret']\n",
    "    redirect_uri = data['redirect_uri']\n",
    "\n",
    "    token = util.prompt_for_user_token(username, scope, client_id, client_secret, redirect_uri)\n",
    "\n",
    "    if not token:\n",
    "        raise RuntimeError(\"Can't get token for\", username)\n",
    "    \n",
    "    return token"
   ]
  },
  {
   "cell_type": "code",
   "execution_count": 5,
   "metadata": {},
   "outputs": [],
   "source": [
    "token = generate_token()\n",
    "sp = spotipy.Spotify(auth=token)"
   ]
  },
  {
   "cell_type": "code",
   "execution_count": 6,
   "metadata": {},
   "outputs": [
    {
     "name": "stdout",
     "output_type": "stream",
     "text": [
      "Total filtered playlists 758\n"
     ]
    }
   ],
   "source": [
    "playlists = []\n",
    "num_playlists = 800\n",
    "limit = 50\n",
    "\n",
    "for i in range(0, int(num_playlists / limit)):\n",
    "    results = sp.search('Banger', limit=limit, offset=limit*i, type='playlist')\n",
    "    filtered_playlists = filter(lambda x: 'banger' in x['name'].lower(), results['playlists']['items'])\n",
    "    playlists.extend(filtered_playlists)\n",
    "    time.sleep(0.1)\n",
    "\n",
    "print('Total filtered playlists', len(playlists))"
   ]
  },
  {
   "cell_type": "code",
   "execution_count": 7,
   "metadata": {},
   "outputs": [
    {
     "name": "stdout",
     "output_type": "stream",
     "text": [
      "{'added_at': '2017-11-17T12:50:26Z', 'added_by': {'external_urls': {'spotify': 'https://open.spotify.com/user/rickkve'}, 'href': 'https://api.spotify.com/v1/users/rickkve', 'id': 'rickkve', 'type': 'user', 'uri': 'spotify:user:rickkve'}, 'is_local': False, 'primary_color': None, 'track': None, 'video_thumbnail': {'url': None}}\n",
      "70535\n",
      "2xLMifQCjDGFmkHkpNLD9h\n"
     ]
    }
   ],
   "source": [
    "tracks = {}\n",
    "\n",
    "# Loop through playlists\n",
    "for playlist in playlists:\n",
    "    \n",
    "    # A track can be added to a playlist several times. Only count one occurance per playlist\n",
    "    \n",
    "    playlist_track_deduper = []\n",
    "    # If more than 100 songs in playlist, requires multiple queries to get all songs\n",
    "    next = True\n",
    "    offset = 0\n",
    "    while (next):\n",
    "        results = sp.playlist_tracks(playlist['id'],offset=offset)\n",
    "        #print(playlist['uri'],len(results['items']))\n",
    "        for item in results['items']:\n",
    "            track = item['track']\n",
    "            \n",
    "            if not track:\n",
    "                print(item)\n",
    "                continue\n",
    "            \n",
    "            # Ignore tracks that are not on Spotify\n",
    "            if track['is_local']:\n",
    "                continue\n",
    "                \n",
    "            track_id = track['id']\n",
    "            \n",
    "            # Only count a single occurance of a track per playlist\n",
    "            if track_id in playlist_track_deduper:\n",
    "                continue\n",
    "            playlist_track_deduper.append(track_id)\n",
    "            \n",
    "            # increment occurances if present\n",
    "            if track_id in tracks:\n",
    "                tracks[track_id]['banger_occurances'] = tracks[track_id]['banger_occurances'] + 1\n",
    "            \n",
    "            # else create new track entry\n",
    "            else:        \n",
    "                track.pop('album', None)\n",
    "                track.pop('available_markets', None)\n",
    "                track['banger_occurances'] = 1\n",
    "                tracks[track_id] = track\n",
    "                \n",
    "        offset += 100\n",
    "        next = results['next']\n",
    "        time.sleep(0.1)\n",
    "\n",
    "print(len(tracks))\n",
    "print(max(tracks, key=lambda x: tracks[x]['banger_occurances']))"
   ]
  },
  {
   "cell_type": "code",
   "execution_count": 8,
   "metadata": {},
   "outputs": [
    {
     "name": "stdout",
     "output_type": "stream",
     "text": [
      "2xLMifQCjDGFmkHkpNLD9h 295\n"
     ]
    }
   ],
   "source": [
    "top_track = max(tracks, key=lambda x: tracks[x]['banger_occurances'])\n",
    "max_occurances = tracks[top_track]['banger_occurances']\n",
    "\n",
    "print(top_track, max_occurances)"
   ]
  },
  {
   "cell_type": "code",
   "execution_count": 9,
   "metadata": {},
   "outputs": [
    {
     "name": "stdout",
     "output_type": "stream",
     "text": [
      "70535 5933\n"
     ]
    }
   ],
   "source": [
    "filtered_tracks = {k: v for k, v in tracks.items() if v['banger_occurances'] > 5}\n",
    "print(len(tracks),len(filtered_tracks))"
   ]
  },
  {
   "cell_type": "code",
   "execution_count": 10,
   "metadata": {},
   "outputs": [],
   "source": [
    "track_attributes_to_remove = ['codestring', 'code_version', 'echoprintstring', 'echoprint_version', 'synchstring', 'synch_version', 'rhythmstring', 'rhythm_version']\n",
    "if False:\n",
    "    # analysis: track, sections, segments,\n",
    "    for track_id, track_details in filtered_tracks.items():\n",
    "        try:\n",
    "            results = sp.audio_analysis(track_id)\n",
    "\n",
    "        # Takes long enough token can expire, refresh token\n",
    "        except Exception as excpt:\n",
    "            print(excpt)\n",
    "            token = generate_token()\n",
    "            sp = spotipy.Spotify(auth=token)\n",
    "            results = sp.audio_analysis(track_id)\n",
    "\n",
    "        track_info = results['track']\n",
    "        for key in track_attributes_to_remove:\n",
    "            track_info.pop(key, None)\n",
    "        tmp_track_details = {**track_details, **track_info}\n",
    "        tmp_track_details['sections'] = results['sections']\n",
    "\n",
    "        filtered_tracks[track_id] = tmp_track_details"
   ]
  },
  {
   "cell_type": "code",
   "execution_count": 11,
   "metadata": {},
   "outputs": [],
   "source": [
    "track_ids = list(filtered_tracks.keys())\n",
    "num_tracks = len(track_ids)\n",
    "num_slices = int(num_tracks / 50)\n",
    "for i in range(num_slices):\n",
    "    try:\n",
    "        results = sp.audio_features(track_ids[i * 50 : i * 50 + 50])\n",
    "    \n",
    "    # Takes long enough token can expire, refresh token\n",
    "    except Exception as excpt:\n",
    "        token = generate_token()\n",
    "        sp = spotipy.Spotify(auth=token)\n",
    "        results = sp.audio_features(track_ids[i * 50 : i * 50 + 50])\n",
    "    for j in range(50):\n",
    "        track_id = track_ids[i * 50 + j]\n",
    "        track_details = filtered_tracks[track_id]\n",
    "        tmp_track_details = {**track_details, **results[j]}\n",
    "        filtered_tracks[track_id] = tmp_track_details\n",
    "    time.sleep(0.1)\n",
    "        "
   ]
  },
  {
   "cell_type": "code",
   "execution_count": 12,
   "metadata": {},
   "outputs": [],
   "source": [
    "# artist.hotttnesss,artist.id,artist.name,artist_mbtags,artist_mbtags_count,bars_confidence,bars_start,beats_confidence,beats_start,duration,end_of_fade_in,familiarity,key,key_confidence,latitude,location,longitude,loudness,mode,mode_confidence,release.id,release.name,similar,song.hotttnesss,song.id,start_of_fade_out,tatums_confidence,tatums_start,tempo,terms,terms_freq,time_signature,time_signature_confidence,title,year\n"
   ]
  },
  {
   "cell_type": "code",
   "execution_count": 13,
   "metadata": {},
   "outputs": [
    {
     "name": "stdout",
     "output_type": "stream",
     "text": [
      "{'artists': [{'external_urls': {'spotify': 'https://open.spotify.com/artist/0Y5tJX1MQlPlqiwlOH1tJY'}, 'href': 'https://api.spotify.com/v1/artists/0Y5tJX1MQlPlqiwlOH1tJY', 'id': '0Y5tJX1MQlPlqiwlOH1tJY', 'name': 'Travis Scott', 'type': 'artist', 'uri': 'spotify:artist:0Y5tJX1MQlPlqiwlOH1tJY'}], 'disc_number': 1, 'duration_ms': 312820, 'episode': False, 'explicit': True, 'external_ids': {'isrc': 'USSM11806660'}, 'external_urls': {'spotify': 'https://open.spotify.com/track/2xLMifQCjDGFmkHkpNLD9h'}, 'href': 'https://api.spotify.com/v1/tracks/2xLMifQCjDGFmkHkpNLD9h', 'id': '2xLMifQCjDGFmkHkpNLD9h', 'is_local': False, 'name': 'SICKO MODE', 'popularity': 94, 'preview_url': 'https://p.scdn.co/mp3-preview/1c3c01c64477b356e28a652b6447f4ef96689a71?cid=b48aa986c53946d3b37781455e256dd4', 'track': True, 'track_number': 3, 'type': 'audio_features', 'uri': 'spotify:track:2xLMifQCjDGFmkHkpNLD9h', 'banger_occurances': 295, 'danceability': 0.834, 'energy': 0.73, 'key': 8, 'loudness': -3.714, 'mode': 1, 'speechiness': 0.222, 'acousticness': 0.00513, 'instrumentalness': 0, 'liveness': 0.124, 'valence': 0.446, 'tempo': 155.008, 'track_href': 'https://api.spotify.com/v1/tracks/2xLMifQCjDGFmkHkpNLD9h', 'analysis_url': 'https://api.spotify.com/v1/audio-analysis/2xLMifQCjDGFmkHkpNLD9h', 'time_signature': 4}\n"
     ]
    }
   ],
   "source": [
    "print(filtered_tracks['2xLMifQCjDGFmkHkpNLD9h'])"
   ]
  },
  {
   "cell_type": "code",
   "execution_count": null,
   "metadata": {},
   "outputs": [],
   "source": []
  }
 ],
 "metadata": {
  "kernelspec": {
   "display_name": "Python 3",
   "language": "python",
   "name": "python3"
  },
  "language_info": {
   "codemirror_mode": {
    "name": "ipython",
    "version": 3
   },
   "file_extension": ".py",
   "mimetype": "text/x-python",
   "name": "python",
   "nbconvert_exporter": "python",
   "pygments_lexer": "ipython3",
   "version": "3.6.5"
  }
 },
 "nbformat": 4,
 "nbformat_minor": 1
}
