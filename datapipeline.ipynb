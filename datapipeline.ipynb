{
 "cells": [
  {
   "cell_type": "code",
   "execution_count": 131,
   "metadata": {},
   "outputs": [
    {
     "name": "stdout",
     "output_type": "stream",
     "text": [
      "The autoreload extension is already loaded. To reload it, use:\n",
      "  %reload_ext autoreload\n"
     ]
    }
   ],
   "source": [
    "%load_ext autoreload\n",
    "%autoreload 2"
   ]
  },
  {
   "cell_type": "code",
   "execution_count": 132,
   "metadata": {},
   "outputs": [],
   "source": [
    "import sys\n",
    "import spotipy\n",
    "import spotipy.util as util\n",
    "import json\n",
    "import time\n",
    "import urllib.request\n",
    "\n",
    "import pandas as pd"
   ]
  },
  {
   "cell_type": "code",
   "execution_count": 133,
   "metadata": {},
   "outputs": [],
   "source": [
    "def generate_token():\n",
    "    with open('configs.secret') as f:\n",
    "        data = json.load(f)\n",
    "\n",
    "    #scope = 'user-library-read'\n",
    "    scope = None\n",
    "    username = data['username']\n",
    "    client_id = data['client_id']\n",
    "    client_secret = data['client_secret']\n",
    "    redirect_uri = data['redirect_uri']\n",
    "\n",
    "    token = util.prompt_for_user_token(username, scope, client_id, client_secret, redirect_uri)\n",
    "\n",
    "    if not token:\n",
    "        raise RuntimeError(\"Can't get token for\", username)\n",
    "    \n",
    "    return token"
   ]
  },
  {
   "cell_type": "code",
   "execution_count": 147,
   "metadata": {},
   "outputs": [],
   "source": [
    "token = generate_token()\n",
    "sp = spotipy.Spotify(auth=token)"
   ]
  },
  {
   "cell_type": "code",
   "execution_count": 149,
   "metadata": {},
   "outputs": [
    {
     "name": "stdout",
     "output_type": "stream",
     "text": [
      "Total filtered playlists 468\n"
     ]
    }
   ],
   "source": [
    "playlists = []\n",
    "num_playlists = 500\n",
    "limit = 50\n",
    "\n",
    "for i in range(0, int(num_playlists / limit)):\n",
    "    results = sp.search('Banger', limit=limit, offset=limit*i, type='playlist')\n",
    "    filtered_playlists = filter(lambda x: 'banger' in x['name'].lower(), results['playlists']['items'])\n",
    "    playlists.extend(filtered_playlists)\n",
    "    time.sleep(0.1)\n",
    "\n",
    "print('Total filtered playlists', len(playlists))"
   ]
  },
  {
   "cell_type": "code",
   "execution_count": 151,
   "metadata": {},
   "outputs": [
    {
     "name": "stdout",
     "output_type": "stream",
     "text": [
      "{'added_at': '2017-11-17T12:50:26Z', 'added_by': {'external_urls': {'spotify': 'https://open.spotify.com/user/rickkve'}, 'href': 'https://api.spotify.com/v1/users/rickkve', 'id': 'rickkve', 'type': 'user', 'uri': 'spotify:user:rickkve'}, 'is_local': False, 'primary_color': None, 'track': None, 'video_thumbnail': {'url': None}}\n",
      "53000\n",
      "2xLMifQCjDGFmkHkpNLD9h\n"
     ]
    }
   ],
   "source": [
    "tracks = {}\n",
    "\n",
    "# Loop through playlists\n",
    "for playlist in playlists:\n",
    "    \n",
    "    # A track can be added to a playlist several times. Only count one occurance per playlist\n",
    "    \n",
    "    playlist_track_deduper = []\n",
    "    # If more than 100 songs in playlist, requires multiple queries to get all songs\n",
    "    next = True\n",
    "    offset = 0\n",
    "    while (next):\n",
    "        results = sp.playlist_tracks(playlist['id'],offset=offset)\n",
    "        #print(playlist['uri'],len(results['items']))\n",
    "        for item in results['items']:\n",
    "            track = item['track']\n",
    "            \n",
    "            if not track:\n",
    "                print(item)\n",
    "                continue\n",
    "            \n",
    "            # Ignore tracks that are not on Spotify\n",
    "            if track['is_local']:\n",
    "                continue\n",
    "                \n",
    "            track_id = track['id']\n",
    "            \n",
    "            # Only count a single occurance of a track per playlist\n",
    "            if track_id in playlist_track_deduper:\n",
    "                continue\n",
    "            playlist_track_deduper.append(track_id)\n",
    "            \n",
    "            # increment occurances if present\n",
    "            if track_id in tracks:\n",
    "                tracks[track_id]['banger_occurances'] = tracks[track_id]['banger_occurances'] + 1\n",
    "            \n",
    "            # else create new track entry\n",
    "            else:        \n",
    "                track.pop('album', None)\n",
    "                track.pop('available_markets', None)\n",
    "                track['banger_occurances'] = 1\n",
    "                tracks[track_id] = track\n",
    "                \n",
    "        offset += 100\n",
    "        next = results['next']\n",
    "        time.sleep(0.1)\n",
    "\n",
    "print(len(tracks))\n",
    "print(max(tracks, key=lambda x: tracks[x]['banger_occurances']))"
   ]
  },
  {
   "cell_type": "code",
   "execution_count": 137,
   "metadata": {},
   "outputs": [
    {
     "name": "stdout",
     "output_type": "stream",
     "text": [
      "2xLMifQCjDGFmkHkpNLD9h 68\n"
     ]
    }
   ],
   "source": [
    "top_track = max(tracks, key=lambda x: tracks[x]['banger_occurances'])\n",
    "max_occurances = tracks[top_track]['banger_occurances']\n",
    "\n",
    "print(top_track, max_occurances)"
   ]
  },
  {
   "cell_type": "code",
   "execution_count": 152,
   "metadata": {},
   "outputs": [
    {
     "name": "stdout",
     "output_type": "stream",
     "text": [
      "53000 16780\n"
     ]
    }
   ],
   "source": [
    "filtered_tracks = {k: v for k, v in tracks.items() if v['banger_occurances'] > 1}\n",
    "print(len(tracks),len(filtered_tracks))"
   ]
  },
  {
   "cell_type": "code",
   "execution_count": 111,
   "metadata": {},
   "outputs": [
    {
     "ename": "SpotifyException",
     "evalue": "http status: 401, code:-1 - https://api.spotify.com/v1/audio-analysis/1Q8OgsmxcnoGev6T7KUenD:\n The access token expired",
     "output_type": "error",
     "traceback": [
      "\u001b[1;31m---------------------------------------------------------------------------\u001b[0m",
      "\u001b[1;31mHTTPError\u001b[0m                                 Traceback (most recent call last)",
      "\u001b[1;32mE:\\Users\\abella\\PycharmProjects\\isitabanger\\spotipy\\client.py\u001b[0m in \u001b[0;36m_internal_call\u001b[1;34m(self, method, url, payload, params)\u001b[0m\n\u001b[0;32m    120\u001b[0m         \u001b[1;32mtry\u001b[0m\u001b[1;33m:\u001b[0m\u001b[1;33m\u001b[0m\u001b[0m\n\u001b[1;32m--> 121\u001b[1;33m             \u001b[0mr\u001b[0m\u001b[1;33m.\u001b[0m\u001b[0mraise_for_status\u001b[0m\u001b[1;33m(\u001b[0m\u001b[1;33m)\u001b[0m\u001b[1;33m\u001b[0m\u001b[0m\n\u001b[0m\u001b[0;32m    122\u001b[0m         \u001b[1;32mexcept\u001b[0m\u001b[1;33m:\u001b[0m\u001b[1;33m\u001b[0m\u001b[0m\n",
      "\u001b[1;32mE:\\Users\\abella\\Anaconda3\\lib\\site-packages\\requests\\models.py\u001b[0m in \u001b[0;36mraise_for_status\u001b[1;34m(self)\u001b[0m\n\u001b[0;32m    934\u001b[0m         \u001b[1;32mif\u001b[0m \u001b[0mhttp_error_msg\u001b[0m\u001b[1;33m:\u001b[0m\u001b[1;33m\u001b[0m\u001b[0m\n\u001b[1;32m--> 935\u001b[1;33m             \u001b[1;32mraise\u001b[0m \u001b[0mHTTPError\u001b[0m\u001b[1;33m(\u001b[0m\u001b[0mhttp_error_msg\u001b[0m\u001b[1;33m,\u001b[0m \u001b[0mresponse\u001b[0m\u001b[1;33m=\u001b[0m\u001b[0mself\u001b[0m\u001b[1;33m)\u001b[0m\u001b[1;33m\u001b[0m\u001b[0m\n\u001b[0m\u001b[0;32m    936\u001b[0m \u001b[1;33m\u001b[0m\u001b[0m\n",
      "\u001b[1;31mHTTPError\u001b[0m: 401 Client Error: Unauthorized for url: https://api.spotify.com/v1/audio-analysis/1Q8OgsmxcnoGev6T7KUenD",
      "\nDuring handling of the above exception, another exception occurred:\n",
      "\u001b[1;31mSpotifyException\u001b[0m                          Traceback (most recent call last)",
      "\u001b[1;32m<ipython-input-111-26ec1b0cb37b>\u001b[0m in \u001b[0;36m<module>\u001b[1;34m()\u001b[0m\n\u001b[0;32m      2\u001b[0m \u001b[1;31m# analysis: track, sections, segments,\u001b[0m\u001b[1;33m\u001b[0m\u001b[1;33m\u001b[0m\u001b[0m\n\u001b[0;32m      3\u001b[0m \u001b[1;32mfor\u001b[0m \u001b[0mtrack_id\u001b[0m\u001b[1;33m,\u001b[0m \u001b[0mtrack_details\u001b[0m \u001b[1;32min\u001b[0m \u001b[0mfiltered_tracks\u001b[0m\u001b[1;33m.\u001b[0m\u001b[0mitems\u001b[0m\u001b[1;33m(\u001b[0m\u001b[1;33m)\u001b[0m\u001b[1;33m:\u001b[0m\u001b[1;33m\u001b[0m\u001b[0m\n\u001b[1;32m----> 4\u001b[1;33m     \u001b[0mresults\u001b[0m \u001b[1;33m=\u001b[0m \u001b[0msp\u001b[0m\u001b[1;33m.\u001b[0m\u001b[0maudio_analysis\u001b[0m\u001b[1;33m(\u001b[0m\u001b[0mtrack_id\u001b[0m\u001b[1;33m)\u001b[0m\u001b[1;33m\u001b[0m\u001b[0m\n\u001b[0m\u001b[0;32m      5\u001b[0m     \u001b[0mtrack_info\u001b[0m \u001b[1;33m=\u001b[0m \u001b[0mresults\u001b[0m\u001b[1;33m[\u001b[0m\u001b[1;34m'track'\u001b[0m\u001b[1;33m]\u001b[0m\u001b[1;33m\u001b[0m\u001b[0m\n\u001b[0;32m      6\u001b[0m     \u001b[1;32mfor\u001b[0m \u001b[0mkey\u001b[0m \u001b[1;32min\u001b[0m \u001b[0mtrack_attributes_to_remove\u001b[0m\u001b[1;33m:\u001b[0m\u001b[1;33m\u001b[0m\u001b[0m\n",
      "\u001b[1;32mE:\\Users\\abella\\PycharmProjects\\isitabanger\\spotipy\\client.py\u001b[0m in \u001b[0;36maudio_analysis\u001b[1;34m(self, id)\u001b[0m\n\u001b[0;32m    892\u001b[0m         \"\"\"\n\u001b[0;32m    893\u001b[0m         \u001b[0mid\u001b[0m \u001b[1;33m=\u001b[0m \u001b[0mself\u001b[0m\u001b[1;33m.\u001b[0m\u001b[0m_get_id\u001b[0m\u001b[1;33m(\u001b[0m\u001b[1;34m'track'\u001b[0m\u001b[1;33m,\u001b[0m \u001b[0mid\u001b[0m\u001b[1;33m)\u001b[0m\u001b[1;33m\u001b[0m\u001b[0m\n\u001b[1;32m--> 894\u001b[1;33m         \u001b[1;32mreturn\u001b[0m \u001b[0mself\u001b[0m\u001b[1;33m.\u001b[0m\u001b[0m_get\u001b[0m\u001b[1;33m(\u001b[0m\u001b[1;34m'audio-analysis/'\u001b[0m\u001b[1;33m+\u001b[0m\u001b[0mid\u001b[0m\u001b[1;33m)\u001b[0m\u001b[1;33m\u001b[0m\u001b[0m\n\u001b[0m\u001b[0;32m    895\u001b[0m \u001b[1;33m\u001b[0m\u001b[0m\n\u001b[0;32m    896\u001b[0m     \u001b[1;32mdef\u001b[0m \u001b[0mdevices\u001b[0m\u001b[1;33m(\u001b[0m\u001b[0mself\u001b[0m\u001b[1;33m)\u001b[0m\u001b[1;33m:\u001b[0m\u001b[1;33m\u001b[0m\u001b[0m\n",
      "\u001b[1;32mE:\\Users\\abella\\PycharmProjects\\isitabanger\\spotipy\\client.py\u001b[0m in \u001b[0;36m_get\u001b[1;34m(self, url, args, payload, **kwargs)\u001b[0m\n\u001b[0;32m    146\u001b[0m         \u001b[1;32mwhile\u001b[0m \u001b[0mretries\u001b[0m \u001b[1;33m>\u001b[0m \u001b[1;36m0\u001b[0m\u001b[1;33m:\u001b[0m\u001b[1;33m\u001b[0m\u001b[0m\n\u001b[0;32m    147\u001b[0m             \u001b[1;32mtry\u001b[0m\u001b[1;33m:\u001b[0m\u001b[1;33m\u001b[0m\u001b[0m\n\u001b[1;32m--> 148\u001b[1;33m                 \u001b[1;32mreturn\u001b[0m \u001b[0mself\u001b[0m\u001b[1;33m.\u001b[0m\u001b[0m_internal_call\u001b[0m\u001b[1;33m(\u001b[0m\u001b[1;34m'GET'\u001b[0m\u001b[1;33m,\u001b[0m \u001b[0murl\u001b[0m\u001b[1;33m,\u001b[0m \u001b[0mpayload\u001b[0m\u001b[1;33m,\u001b[0m \u001b[0mkwargs\u001b[0m\u001b[1;33m)\u001b[0m\u001b[1;33m\u001b[0m\u001b[0m\n\u001b[0m\u001b[0;32m    149\u001b[0m             \u001b[1;32mexcept\u001b[0m \u001b[0mSpotifyException\u001b[0m \u001b[1;32mas\u001b[0m \u001b[0me\u001b[0m\u001b[1;33m:\u001b[0m\u001b[1;33m\u001b[0m\u001b[0m\n\u001b[0;32m    150\u001b[0m                 \u001b[0mretries\u001b[0m \u001b[1;33m-=\u001b[0m \u001b[1;36m1\u001b[0m\u001b[1;33m\u001b[0m\u001b[0m\n",
      "\u001b[1;32mE:\\Users\\abella\\PycharmProjects\\isitabanger\\spotipy\\client.py\u001b[0m in \u001b[0;36m_internal_call\u001b[1;34m(self, method, url, payload, params)\u001b[0m\n\u001b[0;32m    124\u001b[0m                 raise SpotifyException(r.status_code,\n\u001b[0;32m    125\u001b[0m                     \u001b[1;33m-\u001b[0m\u001b[1;36m1\u001b[0m\u001b[1;33m,\u001b[0m \u001b[1;34m'%s:\\n %s'\u001b[0m \u001b[1;33m%\u001b[0m \u001b[1;33m(\u001b[0m\u001b[0mr\u001b[0m\u001b[1;33m.\u001b[0m\u001b[0murl\u001b[0m\u001b[1;33m,\u001b[0m \u001b[0mr\u001b[0m\u001b[1;33m.\u001b[0m\u001b[0mjson\u001b[0m\u001b[1;33m(\u001b[0m\u001b[1;33m)\u001b[0m\u001b[1;33m[\u001b[0m\u001b[1;34m'error'\u001b[0m\u001b[1;33m]\u001b[0m\u001b[1;33m[\u001b[0m\u001b[1;34m'message'\u001b[0m\u001b[1;33m]\u001b[0m\u001b[1;33m)\u001b[0m\u001b[1;33m,\u001b[0m\u001b[1;33m\u001b[0m\u001b[0m\n\u001b[1;32m--> 126\u001b[1;33m                     headers=r.headers)\n\u001b[0m\u001b[0;32m    127\u001b[0m             \u001b[1;32melse\u001b[0m\u001b[1;33m:\u001b[0m\u001b[1;33m\u001b[0m\u001b[0m\n\u001b[0;32m    128\u001b[0m                 raise SpotifyException(r.status_code,\n",
      "\u001b[1;31mSpotifyException\u001b[0m: http status: 401, code:-1 - https://api.spotify.com/v1/audio-analysis/1Q8OgsmxcnoGev6T7KUenD:\n The access token expired"
     ]
    }
   ],
   "source": [
    "track_attributes_to_remove = ['codestring', 'code_version', 'echoprintstring', 'echoprint_version', 'synchstring', 'synch_version', 'rhythmstring', 'rhythm_version']\n",
    "# analysis: track, sections, segments,\n",
    "for track_id, track_details in filtered_tracks.items():\n",
    "    try:\n",
    "        results = sp.audio_analysis(track_id)\n",
    "    \n",
    "    # Takes long enough token can expire, refresh token\n",
    "    except urllib.request.HTTPError:\n",
    "        token = generate_token()\n",
    "        sp = spotipy.Spotify(auth=token)\n",
    "        results = sp.audio_analysis(track_id)\n",
    "    \n",
    "    track_info = results['track']\n",
    "    for key in track_attributes_to_remove:\n",
    "        track_info.pop(key, None)\n",
    "    tmp_track_details = {**track_details, **track_info}\n",
    "    tmp_track_details['sections'] = results['sections']\n",
    "\n",
    "    filtered_tracks[track_id] = tmp_track_details"
   ]
  },
  {
   "cell_type": "code",
   "execution_count": null,
   "metadata": {},
   "outputs": [],
   "source": [
    "track_ids = list(filtered_tracks.keys())\n",
    "num_tracks = len(track_ids)\n",
    "num_slices = int(num_tracks / 50)\n",
    "for i in range(num_slices):\n",
    "    results = sp.audio_features(track_ids[i * 50 : i * 50 + 50])\n",
    "    for j in range(50):\n",
    "        track_id = track_ids[i * 50 + j]\n",
    "        track_details = filtered_tracks[track_id]\n",
    "        tmp_track_details = {**track_details, **results[j]}\n",
    "        filtered_tracks[track_id] = tmp_track_details\n",
    "    time.sleep(0.1)\n",
    "        "
   ]
  },
  {
   "cell_type": "code",
   "execution_count": null,
   "metadata": {},
   "outputs": [],
   "source": [
    "# artist.hotttnesss,artist.id,artist.name,artist_mbtags,artist_mbtags_count,bars_confidence,bars_start,beats_confidence,beats_start,duration,end_of_fade_in,familiarity,key,key_confidence,latitude,location,longitude,loudness,mode,mode_confidence,release.id,release.name,similar,song.hotttnesss,song.id,start_of_fade_out,tatums_confidence,tatums_start,tempo,terms,terms_freq,time_signature,time_signature_confidence,title,year\n"
   ]
  },
  {
   "cell_type": "code",
   "execution_count": null,
   "metadata": {},
   "outputs": [],
   "source": [
    "print(filtered_tracks)"
   ]
  },
  {
   "cell_type": "code",
   "execution_count": null,
   "metadata": {},
   "outputs": [],
   "source": []
  }
 ],
 "metadata": {
  "kernelspec": {
   "display_name": "Python 3",
   "language": "python",
   "name": "python3"
  },
  "language_info": {
   "codemirror_mode": {
    "name": "ipython",
    "version": 3
   },
   "file_extension": ".py",
   "mimetype": "text/x-python",
   "name": "python",
   "nbconvert_exporter": "python",
   "pygments_lexer": "ipython3",
   "version": "3.6.5"
  }
 },
 "nbformat": 4,
 "nbformat_minor": 1
}
