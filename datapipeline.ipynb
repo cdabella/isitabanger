{
 "cells": [
  {
   "cell_type": "code",
   "execution_count": 136,
   "metadata": {},
   "outputs": [
    {
     "name": "stdout",
     "output_type": "stream",
     "text": [
      "The autoreload extension is already loaded. To reload it, use:\n",
      "  %reload_ext autoreload\n"
     ]
    }
   ],
   "source": [
    "%load_ext autoreload\n",
    "%autoreload 2"
   ]
  },
  {
   "cell_type": "code",
   "execution_count": 137,
   "metadata": {},
   "outputs": [],
   "source": [
    "import sys\n",
    "import spotipy\n",
    "import spotipy.util as util\n",
    "import json\n",
    "import time\n",
    "import urllib.request\n",
    "\n",
    "import pandas as pd"
   ]
  },
  {
   "cell_type": "code",
   "execution_count": 138,
   "metadata": {},
   "outputs": [],
   "source": [
    "def generate_token():\n",
    "    with open('configs.secret') as f:\n",
    "        data = json.load(f)\n",
    "\n",
    "    #scope = 'user-library-read'\n",
    "    scope = None\n",
    "    username = data['username']\n",
    "    client_id = data['client_id']\n",
    "    client_secret = data['client_secret']\n",
    "    redirect_uri = data['redirect_uri']\n",
    "\n",
    "    token = util.prompt_for_user_token(username, scope, client_id, client_secret, redirect_uri)\n",
    "\n",
    "    if not token:\n",
    "        raise RuntimeError(\"Can't get token for\", username)\n",
    "    \n",
    "    return token"
   ]
  },
  {
   "cell_type": "code",
   "execution_count": 139,
   "metadata": {},
   "outputs": [],
   "source": [
    "token = generate_token()\n",
    "sp = spotipy.Spotify(auth=token)"
   ]
  },
  {
   "cell_type": "code",
   "execution_count": 140,
   "metadata": {},
   "outputs": [
    {
     "name": "stdout",
     "output_type": "stream",
     "text": [
      "Total filtered playlists 1874\n"
     ]
    }
   ],
   "source": [
    "playlists = []\n",
    "num_playlists = 2000\n",
    "limit = 50\n",
    "\n",
    "search_term = 'sleep'.lower()\n",
    "isBanger = False\n",
    "\n",
    "for i in range(0, int(num_playlists / limit)):\n",
    "    results = sp.search(search_term, limit=limit, offset=limit*i, type='playlist', market='us')\n",
    "    filtered_playlists = filter(lambda x: search_term in x['name'].lower(), results['playlists']['items'])\n",
    "    playlists.extend(filtered_playlists)\n",
    "    time.sleep(0.1)\n",
    "\n",
    "print('Total filtered playlists', len(playlists))"
   ]
  },
  {
   "cell_type": "code",
   "execution_count": 141,
   "metadata": {},
   "outputs": [
    {
     "name": "stdout",
     "output_type": "stream",
     "text": [
      "{'added_at': '2016-03-03T23:07:42Z', 'added_by': {'external_urls': {'spotify': 'https://open.spotify.com/user/simonheinonen'}, 'href': 'https://api.spotify.com/v1/users/simonheinonen', 'id': 'simonheinonen', 'type': 'user', 'uri': 'spotify:user:simonheinonen'}, 'is_local': False, 'primary_color': None, 'track': None, 'video_thumbnail': {'url': None}}\n",
      "186744\n",
      "14JzyD6FlBD5z0wV5P07YI\n"
     ]
    }
   ],
   "source": [
    "tracks = {}\n",
    "\n",
    "# Loop through playlists\n",
    "for playlist in playlists:\n",
    "    \n",
    "    # A track can be added to a playlist several times. Only count one occurance per playlist\n",
    "    \n",
    "    playlist_track_deduper = []\n",
    "    # If more than 100 songs in playlist, requires multiple queries to get all songs\n",
    "    next = True\n",
    "    offset = 0\n",
    "    while (next):\n",
    "        try:\n",
    "            results = sp.playlist_tracks(playlist['id'],offset=offset)\n",
    "        # Takes long enough token can expire, refresh token\n",
    "        except Exception as excpt:\n",
    "            print(excpt)\n",
    "            token = generate_token()\n",
    "            sp = spotipy.Spotify(auth=token)\n",
    "            results = sp.playlist_tracks(playlist['id'],offset=offset)\n",
    "            \n",
    "        #print(playlist['uri'],len(results['items']))\n",
    "        for item in results['items']:\n",
    "            track = item['track']\n",
    "            \n",
    "            if not track:\n",
    "                print(item)\n",
    "                continue\n",
    "            \n",
    "            # Ignore tracks that are not on Spotify\n",
    "            if track['is_local']:\n",
    "                continue\n",
    "                \n",
    "            track_id = track['id']\n",
    "            \n",
    "            # Only count a single occurance of a track per playlist\n",
    "            if track_id in playlist_track_deduper:\n",
    "                continue\n",
    "            playlist_track_deduper.append(track_id)\n",
    "            \n",
    "            # increment occurances if present\n",
    "            if track_id in tracks:\n",
    "                tracks[track_id]['track_occurances'] = tracks[track_id]['track_occurances'] + 1\n",
    "            \n",
    "            # else create new track entry\n",
    "            else:        \n",
    "                track.pop('album', None)\n",
    "                track.pop('available_markets', None)\n",
    "                track['track_occurances'] = 1\n",
    "                tracks[track_id] = track\n",
    "                \n",
    "        offset += 100\n",
    "        next = results['next']\n",
    "        time.sleep(0.1)\n",
    "\n",
    "print(len(tracks))\n",
    "print(max(tracks, key=lambda x: tracks[x]['track_occurances']))"
   ]
  },
  {
   "cell_type": "code",
   "execution_count": 142,
   "metadata": {},
   "outputs": [
    {
     "name": "stdout",
     "output_type": "stream",
     "text": [
      "186744 2578\n"
     ]
    }
   ],
   "source": [
    "filtered_tracks = {k: v for k, v in tracks.items() if v['track_occurances'] > 10}\n",
    "print(len(tracks),len(filtered_tracks))\n"
   ]
  },
  {
   "cell_type": "code",
   "execution_count": 143,
   "metadata": {},
   "outputs": [
    {
     "name": "stdout",
     "output_type": "stream",
     "text": [
      "14JzyD6FlBD5z0wV5P07YI 183\n"
     ]
    }
   ],
   "source": [
    "top_track = max(filtered_tracks, key=lambda x: filtered_tracks[x]['track_occurances'])\n",
    "max_occurances = filtered_tracks[top_track]['track_occurances']\n",
    "\n",
    "print(top_track, max_occurances)"
   ]
  },
  {
   "cell_type": "code",
   "execution_count": 144,
   "metadata": {},
   "outputs": [],
   "source": [
    "for track_id, track_details in filtered_tracks.items():\n",
    "    \n",
    "    artists = track_details.pop('artists', None)\n",
    "    if artists:\n",
    "        artist_name_string = ''\n",
    "        artist_id_string = ''\n",
    "        for artist in artists:\n",
    "            artist_name_string = artist_name_string + artist['name'] + ', '\n",
    "            artist_id_string = artist_id_string + artist['id'] + ', '\n",
    "        artist_name_string = artist_name_string[0:-2]\n",
    "        artist_id_string = artist_id_string[0:-2]\n",
    "        track_details['artist.name'] = artist_name_string\n",
    "        track_details['artist.id'] = artist_id_string\n",
    "    \n",
    "    external_ids = track_details.pop('external_ids', None)\n",
    "    if (external_ids):\n",
    "        for src, src_id in external_ids.items():\n",
    "            key = 'external_ids.' + src\n",
    "            track_details[key] = src_id\n",
    "    \n",
    "    track_details.pop('external_urls', None)\n",
    "    track_details['isBanger'] = isBanger\n",
    "    filtered_tracks[track_id] = track_details"
   ]
  },
  {
   "cell_type": "code",
   "execution_count": 145,
   "metadata": {},
   "outputs": [],
   "source": [
    "track_attributes_to_remove = ['codestring', 'code_version', 'echoprintstring', 'echoprint_version', 'synchstring', 'synch_version', 'rhythmstring', 'rhythm_version']\n",
    "if False:\n",
    "    # analysis: track, sections, segments,\n",
    "    for track_id, track_details in filtered_tracks.items():\n",
    "        try:\n",
    "            results = sp.audio_analysis(track_id)\n",
    "\n",
    "        # Takes long enough token can expire, refresh token\n",
    "        except Exception as excpt:\n",
    "            print(excpt)\n",
    "            token = generate_token()\n",
    "            sp = spotipy.Spotify(auth=token)\n",
    "            results = sp.audio_analysis(track_id)\n",
    "\n",
    "        track_info = results['track']\n",
    "        for key in track_attributes_to_remove:\n",
    "            track_info.pop(key, None)\n",
    "        tmp_track_details = {**track_details, **track_info}\n",
    "        tmp_track_details['sections'] = results['sections']\n",
    "\n",
    "        filtered_tracks[track_id] = tmp_track_details"
   ]
  },
  {
   "cell_type": "code",
   "execution_count": 146,
   "metadata": {},
   "outputs": [],
   "source": [
    "track_ids = list(filtered_tracks.keys())\n",
    "num_tracks = len(track_ids)\n",
    "num_slices = int(num_tracks / 50)\n",
    "for i in range(num_slices):\n",
    "    try:\n",
    "        results = sp.audio_features(track_ids[i * 50 : i * 50 + 50])\n",
    "    \n",
    "    # Takes long enough token can expire, refresh token\n",
    "    except Exception as excpt:\n",
    "        token = generate_token()\n",
    "        sp = spotipy.Spotify(auth=token)\n",
    "        results = sp.audio_features(track_ids[i * 50 : i * 50 + 50])\n",
    "    for j in range(50):\n",
    "        track_id = track_ids[i * 50 + j]\n",
    "        track_details = filtered_tracks[track_id]\n",
    "        if (track_details and results[j]):\n",
    "            tmp_track_details = {**track_details, **results[j]}\n",
    "        filtered_tracks[track_id] = tmp_track_details\n",
    "    time.sleep(0.1)\n",
    "        "
   ]
  },
  {
   "cell_type": "code",
   "execution_count": 147,
   "metadata": {},
   "outputs": [],
   "source": [
    "# artist.hotttnesss,artist.id,artist.name,artist_mbtags,artist_mbtags_count,bars_confidence,bars_start,beats_confidence,beats_start,duration,end_of_fade_in,familiarity,key,key_confidence,latitude,location,longitude,loudness,mode,mode_confidence,release.id,release.name,similar,song.hotttnesss,song.id,start_of_fade_out,tatums_confidence,tatums_start,tempo,terms,terms_freq,time_signature,time_signature_confidence,title,year\n"
   ]
  },
  {
   "cell_type": "code",
   "execution_count": 148,
   "metadata": {},
   "outputs": [
    {
     "name": "stdout",
     "output_type": "stream",
     "text": [
      "['Gone', 'Thinking Like The Flowers', 'Mind-Drift', 'Hibernation', 'Endymion', 'Demi Sec', 'Dream 1 (before the wind blows it all away) - Pt. 1', 'Magica', 'Reverie', 'Still Now', 'Triangle', 'Sway', 'Tallis One', 'Introspective', 'A Clear Mind', 'Atoms', 'Magnetic', 'Talisman Stallion', 'Glitching', 'The Watchtower', 'Crystal Clear', 'Evolutionistically Yours', 'Dealings', \"Ella's Lullaby\", 'Nemo Egg (Main Title)', 'Overture (For Other Halfs)', 'Floating, Floating', 'This Moment', 'Red Gold Yesterday', 'Solêr', 'La Lluvia', 'Faded Dreams', 'Deep Forest - Cello Version', 'Finding It There', 'Wings of Glass', 'Dawning', 'Emerald and Stone', 'Avril 14th', 'The Giant', 'Luna', 'An Ending (Ascent)', 'Twinkling Star', 'Squares of life', 'Painting The Horizon', 'Olancha Farewell', 'Sugarcane', 'Quiet Resource', 'Friendship Before Love', 'Sea Of Tranquility', 'The Whispers', 'Return of Infinity', 'Reminisce in D', 'Words Of Amber', 'At Peace', 'A Glowing Heart', 'Chasing Cloud Nine', 'Pinô', 'Balm (Scaled Down Version)', 'Cavatina', 'Wake up Rested', 'Translucent', 'Healing Memories', 'Quiet Dreams', 'From Dusk til Dark', 'Finally You Needed Me', 'Slip into Darkness', 'Willow Song', 'Stillness Speaks', 'Brahms Lullaby', 'Equal', 'Hush Little Baby', 'Evening Mantra', 'Let Her Go', 'Yesterday', 'All of Me', 'Dancing On My Own', 'Love Yourself', 'Fantasazing', 'Far Away', 'Nocturne', 'Home', 'I Will Wait', 'Colors of the Wind', 'Can You Feel The Love Tonight', 'Ho hey', 'A Whole New World', 'Skinny Love', 'When You Love Someone', 'Someone Like You', 'Song for A', 'Radiant City', 'Astral Therapy', 'Comet', 'A Rising Sun', 'Moments', 'Subtext', 'Signals - Remastered 2005', 'Drift - Remastered 2005', \"How Far I'll Go\", 'Mad World', 'Naive Spin', 'Water Ripples', 'La Tour', 'Musicbox', 'The Lighthouse', 'Bells In The Wind', 'When Sunny Gets Blue', \"I Got It Bad And That Ain't Good\", 'The Nearness Of You', 'Blue in Green', 'In Your Own Sweet Way', 'I Hear A Rhapsody', 'If You Could See Me Now', 'Angel Eyes - Studio', 'Skating In Central Park', 'Yoga Meditation and Relaxation', 'Cure Insomnia Sleeping Music', 'Thunder & Rain Sounds, Pt. 01', 'Thunder & Rain Sounds, Pt. 02', 'Thunder & Rain Sounds, Pt. 03', 'Thunder & Rain Sounds, Pt. 04', 'Thunder & Rain Sounds, Pt. 05', 'Thunder & Rain Sounds, Pt. 06', 'Thunder & Rain Sounds, Pt. 07', 'Thunder & Rain Sounds, Pt. 08', 'Thunder & Rain Sounds, Pt. 09', 'Thunder & Rain Sounds, Pt. 10', 'Thunder & Rain Sounds, Pt. 11', 'Thunder & Rain Sounds, Pt. 12', 'Thunder & Rain Sounds, Pt. 13', 'Thunder & Rain Sounds, Pt. 14', 'Thunder & Rain Sounds, Pt. 15', 'Thunder & Rain Sounds, Pt. 16', 'Thunder & Rain Sounds, Pt. 17', 'Thunder & Rain Sounds, Pt. 18', 'Thunder & Rain Sounds, Pt. 19', 'Thunder & Rain Sounds, Pt. 20', 'Thunder & Rain Sounds, Pt. 21', 'Thunder & Rain Sounds, Pt. 22', 'Thunder & Rain Sounds, Pt. 23', 'Thunder & Rain Sounds, Pt. 24', 'Thunder & Rain Sounds, Pt. 25', 'Thunder & Rain Sounds, Pt. 26', 'Thunder & Rain Sounds, Pt. 27', 'Thunder & Rain Sounds, Pt. 28', 'Thunder & Rain Sounds, Pt. 29', 'Thunder & Rain Sounds, Pt. 30', 'Thunder & Rain Sounds, Pt. 31', 'Thunder & Rain Sounds, Pt. 32', 'Thunder & Rain Sounds, Pt. 33', 'Thunder & Rain Sounds, Pt. 34', 'Thunder & Rain Sounds, Pt. 35', 'Thunder & Rain Sounds, Pt. 36', 'Thunder & Rain Sounds, Pt. 37', 'Thunder & Rain Sounds, Pt. 38', 'Thunder & Rain Sounds, Pt. 39', 'Thunder & Rain Sounds, Pt. 40', 'Thunder & Rain Sounds, Pt. 41', 'Thunder & Rain Sounds, Pt. 42', 'Thunder & Rain Sounds, Pt. 43', 'Thunder & Rain Sounds, Pt. 44', 'Thunder & Rain Sounds, Pt. 45', 'Thunder & Rain Sounds, Pt. 46', 'Thunder & Rain Sounds, Pt. 47', 'Thunder & Rain Sounds, Pt. 48', 'Thunder & Rain Sounds, Pt. 49', 'Thunder & Rain Sounds, Pt. 50', 'Thunder & Rain Sounds, Pt. 51', 'Thunder & Rain Sounds, Pt. 52', 'Thunder & Rain Sounds, Pt. 53', 'Thunder & Rain Sounds, Pt. 54', 'Thunder & Rain Sounds, Pt. 55', 'Thunder & Rain Sounds, Pt. 56', 'Thunder & Rain Sounds, Pt. 57', 'Thunder & Rain Sounds, Pt. 58', 'Thunder & Rain Sounds, Pt. 59', 'Thunder & Rain Sounds, Pt. 60', 'Thunder & Rain Sounds, Pt. 61', 'Thunder & Rain Sounds, Pt. 62', 'Thunder & Rain Sounds, Pt. 63', 'Thunder & Rain Sounds, Pt. 64', 'Thunder & Rain Sounds, Pt. 65', 'Thunder & Rain Sounds, Pt. 66', 'Thunder & Rain Sounds, Pt. 67', 'Thunder & Rain Sounds, Pt. 68', 'Thunder & Rain Sounds, Pt. 69', 'Thunder & Rain Sounds, Pt. 70', 'Thunder & Rain Sounds, Pt. 71', 'Thunder & Rain Sounds, Pt. 72', 'Thunder & Rain Sounds, Pt. 73', 'Thunder & Rain Sounds, Pt. 74', 'Thunder & Rain Sounds, Pt. 75', 'Thunder & Rain Sounds, Pt. 76', 'Thunder & Rain Sounds, Pt. 77', 'Thunder & Rain Sounds, Pt. 78', 'Thunder & Rain Sounds, Pt. 79', 'Thunder & Rain Sounds, Pt. 80', 'Thunder & Rain Sounds, Pt. 81', 'Thunder & Rain Sounds, Pt. 82', 'Thunder & Rain Sounds, Pt. 83', 'Thunder & Rain Sounds, Pt. 84', 'Thunder & Rain Sounds, Pt. 85', 'Thunder & Rain Sounds, Pt. 86', 'Thunder & Rain Sounds, Pt. 87', 'Thunder & Rain Sounds, Pt. 88', 'Thunder & Rain Sounds, Pt. 89', 'Thunder & Rain Sounds, Pt. 90', 'Thunder & Rain Sounds, Pt. 91', 'Thunder & Rain Sounds, Pt. 92', 'Thunder & Rain Sounds, Pt. 93', 'Thunder & Rain Sounds, Pt. 94', 'Thunder & Rain Sounds, Pt. 95', 'Thunder & Rain Sounds, Pt. 96', 'Thunder & Rain Sounds, Pt. 97', 'Thunder & Rain Sounds, Pt. 98', 'Thunder & Rain Sounds, Pt. 99', 'Thunder & Rain Sounds, Pt. 100', 'Thunder & Rain Sounds, Pt. 101', 'Thunder & Rain Sounds, Pt. 102', 'Thunder & Rain Sounds, Pt. 103', 'Thunder & Rain Sounds, Pt. 104', 'Thunder & Rain Sounds, Pt. 105', 'Thunder & Rain Sounds, Pt. 106', 'Thunder & Rain Sounds, Pt. 107', 'Thunder & Rain Sounds, Pt. 108', 'Thunder & Rain Sounds, Pt. 109', 'Thunder & Rain Sounds, Pt. 110', 'Thunder & Rain Sounds, Pt. 111', 'Thunder & Rain Sounds, Pt. 112', 'Thunder & Rain Sounds, Pt. 113', 'Thunder & Rain Sounds, Pt. 114', 'Thunder & Rain Sounds, Pt. 115', 'Thunder & Rain Sounds, Pt. 116', 'Thunder & Rain Sounds, Pt. 117', 'Thunder & Rain Sounds, Pt. 118', 'Thunder & Rain Sounds, Pt. 119', 'Thunder & Rain Sounds, Pt. 120', 'Thunder & Rain Sounds, Pt. 121', 'Thunder & Rain Sounds, Pt. 122', 'Thunder & Rain Sounds, Pt. 123', 'Thunder & Rain Sounds, Pt. 124', 'Thunder & Rain Sounds, Pt. 125', 'Thunder & Rain Sounds, Pt. 126', 'Thunder & Rain Sounds, Pt. 127', 'Thunder & Rain Sounds, Pt. 128', 'Thunder & Rain Sounds, Pt. 129', 'Thunder & Rain Sounds, Pt. 130', 'Thunder & Rain Sounds, Pt. 131', 'Thunder & Rain Sounds, Pt. 132', 'Thunder & Rain Sounds, Pt. 133', 'Thunder & Rain Sounds, Pt. 134', 'Thunder & Rain Sounds, Pt. 135', 'Thunder & Rain Sounds, Pt. 136', 'Thunder & Rain Sounds, Pt. 137', 'Thunder & Rain Sounds, Pt. 138', 'Thunder & Rain Sounds, Pt. 139', 'Thunder & Rain Sounds, Pt. 140', 'Thunder & Rain Sounds, Pt. 141', 'Thunder & Rain Sounds, Pt. 142', 'Thunder & Rain Sounds, Pt. 143', 'Thunder & Rain Sounds, Pt. 144', 'Thunder & Rain Sounds, Pt. 145', 'Thunder & Rain Sounds, Pt. 146', 'Thunder & Rain Sounds, Pt. 147', 'Thunder & Rain Sounds, Pt. 148', 'Thunder & Rain Sounds, Pt. 149', 'Thunder & Rain Sounds, Pt. 150', 'Thunder & Rain Sounds, Pt. 151', 'Thunder & Rain Sounds, Pt. 152', 'Thunder & Rain Sounds, Pt. 153', 'Thunder & Rain Sounds, Pt. 154', 'Thunder & Rain Sounds, Pt. 155', 'Thunder & Rain Sounds, Pt. 156', 'Thunder & Rain Sounds, Pt. 157', 'Thunder & Rain Sounds, Pt. 158', 'Thunder & Rain Sounds, Pt. 159', 'Thunder & Rain Sounds, Pt. 160', 'I Fall in Love Too Easliy', 'Lonely', '[oops]', 'im closing my eyes (feat. shiloh)', '5:32pm', 'Affection', 'controlla', 'Again', 'If Only', 'Let Her Go', 'When I Was Your Man', 'Lego House', 'Hey There Delilah', 'Fix a Heart', 'The A Team', 'For the First Time', 'How to Save a Life', \"I Won't Give Up\", 'Photograph', 'Amnesia', 'Night Changes', 'Little Things', \"If I Ain't Got You\", \"They Don't Know About Us\", 'Stay With Me', 'YOUTH', 'Idfc', 'Scars To Your Beautiful', 'Hey, Soul Sister', \"Say You Won't Let Go\", 'Impossible - Main', 'Shape of You', 'hate u love u', 'The A Team', 'Thinking Out Loud', 'Grenade - Acoustic', 'Sign of the Times', 'Unsteady', 'Mirrors', 'Creek Of Calmness', 'Smooth Sea Sound', 'Peaceful Beach', 'Sleepy Waves', 'Calming Sea Sound', 'Long Waves', 'Relaxing Shore', 'Pan Creek', 'Deep Rain', 'Rainy Alley', 'Smooth Rain', 'Stormy Rain Sound', 'Forest Thunderstorm', 'Rain & Thunder', 'Florida Rain Storm', 'Slow Waves', 'Wave Foam', 'By The Docks', 'Calm Streams', 'Monsun Rain Fall', 'Downpoar', 'City Rain', 'Cozy Rain Sound', 'Rain In The Bay', 'Calm Rain & Thunder', 'Thunderstorm By The Waterfall', 'Thunderstorm In The Cabin', 'White Noise Rain Sound', 'Miami Rain', 'Dock Rain', 'Pouring Rain', 'Never Ending Rain', 'Pouring Rain & Thunder', 'Dripping Rain', 'Under Shelter Rain', 'Cats And Dogs', 'Lluvia', 'Street Rain', 'Deep Thunderstorm', 'Monsun Thunderstorm', 'Caribbean Thunderstorm', 'Calmness Rain Sound', 'The Approaching Night', 'Nuvole bianche', 'Le onde', 'Début', 'River Flows In You - Original', 'Throes', 'Fin', 'Kiss The Rain - Original', 'Meditative Gentle Rain and Distant Thunder', 'Healthful Rolling Thunder with Distant Rumbles', 'Calm Rolling Thunder and Soothing Rain', 'Relaxing Constant Rain Storm with Distant Thunder Sfx', 'Monday Loop', 'Her', 'Being in Love with U', 'lovesick', \"I Can't Help\", 'Snowfall', 'Getsomerest/sleepwell', 'Sorry', \"U're Mine\", 'Long Espresso', 'Idkanymore', 'Jocelyn Flores', 'Is It Too Much to Ask For (feat. Shiloh)', 'falling down (feat. shiloh)', 'monster gambling in tokyo', 'Wake Up', 'Honey', \"I'll Keep You Safe\", \"Tell Me Why I'm Waiting\", \"i'm in love with u, sorry\", 'Who? (feat. Shiloh Dynasty)', 'Dead Dreams', \"I'm Drunk And Confused\", 'SAFE', \"I Don't Sleep\", 'this girl', 'Cigarettes and Sex', 'Soft Skin', 'I Dont Wanna Know Her', 'I Fell in Love with You One Night in September', \"We've Never Met but Can We Have a Cup of Coffee or Something\", 'oneofone_rwrk', 'Lonely', 'my new love', 'Feblu', \"The Girl I Haven't Met\", \"You'r in My Head\", 'Egyptian Pools', 'viola', 'Sakura Trees', 'm i s t', 'You Are Loving', \"We Can't Be Friends\", 'over u', \"Baby You're Worth It\", 'crush on you', 'Not Even Her (feat. Shiloh)', 'Game over!', 'Everybody Dies In Their Nightmares', 'french inhale', 'controlla', 'Jovial', 'Loosing Interest', 'sincerely, yours', '[oops]', 'Flowers', 'im closing my eyes (Feat. shiloh)', 'Rolling Papers', 'Love Is More Depressing Than Depression', 'Old Roots New Trees', 'Apologize', 'Purpose', 'Mirror', 'Beneath Your Beautiful', 'Let It Go', 'Life Is Worth Living', 'L$D', 'Jealous', 'Breathe Me', 'How Will I Know', 'This Town', 'When You Love Someone', \"We Don't Have To Take Our Clothes Off\", 'Happier', 'Perfect', 'LOVE. FEAT. ZACARI.', 'Redbone', 'Thinkin Bout You', 'Too Good At Goodbyes - Edit', 'Too Much To Ask', 'American Teen', 'A Thousand Years (feat. Steve Kazee) - Part 2', \"I Don't Know My Name\", 'Dive', 'Be Alright', 'Love Someone', \"There's No Way (feat. Julia Michaels)\", 'Waiting On the World to Change', 'Shallow', 'Waves', 'Another Love', 'It Will Rain', 'Under a Waterfall (Relaxing Sounds)', 'Refreshing Claps In Thunderstorm', 'Relaxing Crickets And Waterfall', 'Anthem', 'Chasing Stars', 'A New Day', 'Delicate Transitions', 'Streams', 'A Prominent Response', 'Remove The Complexities', \"Comptine d'un autre été, l'après-midi\", 'Living Mice', 'Many Meetings', 'Weightless', 'XO', 'Something Just Like This - Acoustic', 'Call Out My Name', 'Stay', 'All Girls Are The Same', 'the remedy for a broken heart (why am I so in love)', 'The Way Life Goes (feat. Oh Wonder)', 'Boredom', 'Hope', 'Fuck Love (feat. Trippie Redd)', 'Held Me Down', 'Jungle', 'Location', 'Up', 'Saved', 'Come and See Me (feat. Drake)', 'No Role Modelz', 'Weekend (feat. Miguel)', 'Myself', 'LOVE. FEAT. ZACARI.', \"I'm Sorry\", 'Revenge', 'Call Me', 'Redbone', '911 / Mr. Lonely', 'NUMB', 'Wanted You (feat. Lil Uzi Vert)', 'Otherside', 'Lucid Dreams', 'changes', 'May Be - Original', 'Petrichor', 'Somewhere In Between', 'aisatsana [102]', 'A Meaningful Moment Through a Meaning(less) Process', 'Underbart', 'Opening', 'The Departure', 'Departure (Home)', 'Sonata No. 14 \"Moonlight\" in C-Sharp Minor\", Op. 27 No. 2: I. Adagio sostenuto', 'Main Title', 'The Fellowship Reunited - feat. Sir James Galway, Viggo Mortensen And Renée Fleming', 'Together We Will Live Forever', 'Canon in D Major, P.37', 'Travelling', 'The Funeral', 'Imagine - Remastered', 'The Scientist', \"You Said You'd Grow Old With Me\", 'Fix You', 'All I Want', 'Skinny Love', 'People Help The People', 'Never Say Never', 'In My Veins - Feat. Erin Mccarley', \"I Don't Wanna Love Somebody Else\", 'Goodbye My Lover', 'Let Her Go - Acoustic', 'Not About Angels', 'Heart Like Yours', 'Heal', 'Berlin', 'Love Me - Original', 'Let It All Go', 'Already Gone', 'Cancer', 'You Found Me', 'Landfill', 'Dancing On My Own', 'Atlas: Touch', '5AM', \"Where's My Love\", 'Holocene', 'To Build A Home', 'Anchor', \"Like I'm Gonna Lose You\", 'One More Light', 'fragile (feat. WRENN)', 'Bruises', 'River Of Tears', 'You There', 'Weather', 'Carry You', 'Alps', 'Sense of Home', 'Lay Me Down', 'Here with Me', 'Need You Now - Acoustic', 'You Are The Reason', 'Naked - Acoustic Version', 'The Village', 'No Right To Love You - Acoustic', 'Happier - Acoustic', 'changes', 'Elastic Heart - Piano Version', 'Sunburn - Deluxe Edition', '9 Crimes', 'Always Remember Us This Way', 'Autumn Leaves', \"when the party's over\", 'Someone You Loved', 'Truce', 'Be My Mistake', 'Lay By Me', 'Let Me Down Slowly', 'Sorry', 'Fire On Fire - From \"Watership Down\"', 'Out Of Love', 'Saturn', 'hostage', 'Apologize', 'Breakeven', 'Hall of Fame', 'Demons', 'Almost Is Never Enough', 'Just A Little Bit Of Your Heart', 'Give Me Love', 'Little Do You Know', 'Imagination', 'See You Again (feat. Charlie Puth)', 'Skyscraper', 'The Heart Wants What It Wants', 'When I Look At You', 'Then', 'Halo', \"Highway Don't Care\", 'Talking to the Moon', 'Wanted', 'More Than This', 'Warrior', 'Nightingale', 'What Hurts The Most', 'My Wish', 'Battle Scars', 'Whiskey Lullaby', 'Remind Me', \"She's Everything\", 'The One That Got Away', 'Unconditionally', 'Act Like You Love Me', 'Running Low', 'Memories', 'Your Man', 'Someone Like You', 'No One', 'Bumper Cars', 'Almost Lover', 'Summertime Sadness', 'Young And Beautiful', 'Lost Boy', 'Burning House', 'Who You Are', 'Adore You', 'Never Be Alone', 'Say Something', 'Dancing On My Own', 'The Climb', 'Because of You', 'Try', 'Purpose', 'This Town', 'If I Were a Boy', 'Take A Bow', 'All of Me', 'She Will Be Loved', 'My Everything', 'When We Were Young', 'Stay With Me', 'human', 'Three Empty Words', 'Mercy', \"Tomorrow's Song\", 'Sweden', 'I Giorni', 'Minecraft', 'Mystery of Love', 'Baby Lullaby Music', 'Piano Baby Lullabies for Baby Sleep', 'Classical Piano Music for Baby Sleep', 'Calm Piano Music for Sleeping Baby', 'Bedtime Music for Baby Sleep', 'Hush Little Baby', 'Soft Piano for Baby Sleep', 'The Itsy Bitsy Spider', 'Mary Had a Little Lamb', 'Row Row Row Your Boat', \"Children's Songs and Baby Lullabies\", 'Moderate Rain', 'Rain Sounds Chill', 'Sleep and Chill Rain', 'Lush Rain', 'Light Rain', 'Campfire Rain', 'Softer Rain', 'Sounds of Nature Rain', 'Mountain Lullaby', 'Night Whispers', 'Teach Me to Love', 'Dreamland', 'Deep Sleep', 'Renewal', 'Drift Away', 'Light', 'Scattered Rays', 'The Void', 'Life', 'Lost Planet', 'The Stars Above', 'Saturnian Eclipse', 'Maybe They Will Sing for Us Tomorrow', 'Maybe', 'Childs Play (feat. Chance the Rapper)', 'Sunset Lover', 'Cherry Wine - Live', 'Intro', 'Subwoofer Lullaby', 'just ask', 'Passionfruit', 'Teenage Fever', 'Falling for U', 'Chamber Of Reflection', 'oneofone_rwrk', 'The Loser', 'Big Black Car', 'Eternal Youth', \"I'm Sorry (feat. Shiloh)\", 'SLOW DANCING IN THE DARK', 'Tadow', 'With Somebody Else', 'Sorry, I Like You', 'Hills And Horizons', 'Someone Like You', 'A Thousand Years', 'Superficial Love', \"Can't Help Falling in Love\", 'Can I Be Him', 'Impossible', \"Say You Won't Let Go\", 'Helplessly', \"I Can't Fall in Love Without You\", \"Like I'm Gonna Lose You\", 'Stay', 'Never Be Alone', 'Imagination', 'Too Good At Goodbyes', 'Hallelujah', \"Can't Help Falling In Love\", 'Another Sad Love Song', '8TEEN', 'Just the Way You Are', 'Can I Have This Dance - Original Version', 'La Vie En Rose', 'Imagination', 'Say It First', 'Burning', 'The Thrill Of It All', 'Let It Go', 'Life Of The Party', 'Angels', 'When You Love Someone', 'North', 'Home (with Machine Gun Kelly, X Ambassadors & Bebe Rexha)', 'Some Nights', 'Make You Feel My Love', 'Same Love - feat. Mary Lambert', 'Good Old Days (feat. Kesha)', 'Rewrite The Stars', 'I Fall Apart', 'Honey', 'Hey There Delilah', 'I Love You', 'These Days (feat. Jess Glynne, Macklemore & Dan Caplen)', 'Lost In Japan', 'In My Blood', 'Stand by Me', 'Feeling Whitney', 'You Are The Reason', \"i hate u, i love u (feat. olivia o'brien)\", 'Cancer', 'Youngblood', 'the broken hearts club', 'Stay', 'Oh Ms Believer', 'Chasing Cars', 'Where Were You In The Morning?', 'Why', \"Fallin' All In You\", 'Because I Had You', 'Mutual', 'Perfectly Wrong', 'SAD!', 'Wake Me Up', 'Dying In LA', 'Take Me to Church', 'Andante, Andante', 'Heart Like Yours', 'raindrops (an angel cried)', 'Please Notice', 'Complicated', 'It Will Rain', 'All I Want', 'Rise Up', 'FourFiveSeconds', 'Vertigo', 'come out and play', 'Sunflower - Movie Version', '8 Letters', 'The Good Side', 'Doing It Wrong', 'The Weight', 'High Hopes', 'Lucky', 'A Drop In The Ocean', 'Wasted', 'Sorry', 'wish you were gay', 'Drip Drop Sleep', 'Soft Rain Samples', 'Rain Gutter', 'Sleep Easy Rain', 'Hurt', 'The Night We Met', 'Bruises', 'Hall of Fame', 'Just Give Me a Reason (feat. Nate Ruess)', 'Let Her Go', '\"Read All About It, Pt. III\"', 'Story of My Life', 'I See Fire - From \"The Hobbit - The Desolation Of Smaug\"', 'Waves - Robin Schulz Radio Edit', 'The A Team', 'Fast Car', \"Superman (It's Not Easy)\", 'O', 'Hey There Delilah', 'Jar of Hearts', 'A Thousand Years', 'Cool Kids', 'Firestone (feat. Conrad Sewell) - Live Acoustic Version', \"I'm Not The Only One\", 'Bright', 'Breakeven', 'Chasing Pavements', 'Whiskey Lullaby', 'How Long Will I Love You - Bonus Track', 'The Sound Of Silence', 'Tenerife Sea', 'Clocks', 'California King Bed', 'Hello', 'Stitches', 'Welcome Home, Son', 'You & I', 'Make It To Me', 'Sad Song (feat. Elena Coats)', 'Paper Thin - Live From Studio', 'Close To You', 'All I Want', 'All of the Stars - Soundtrack Version', 'Tee Shirt', 'Make You Feel My Love', \"Free Fallin' - Live at the Nokia Theatre, Los Angeles, CA - December 2007\", 'Bird', 'Dancing On My Own', 'Piano Man', 'Small Bump', \"Please Don't Go\", \"You're Beautiful\", 'Kiss Me', 'When We Were Young', \"Love Don't Change\", 'Somewhere Only We Know', 'Goodbye My Lover', 'Hallelujah', 'When You Love Someone - Acoustic', \"Can't Help Falling in Love\", 'human', 'Scene Two - Roger Rabbit', 'Chasing Cars', 'Scar Tissue', 'All The Pretty Girls', 'Make Me (Cry)', 'Remember When', 'Broken Strings', 'Amnesia', 'Turning Tables', 'Million Reasons', 'Ordinary People', 'Echo', 'Oblivion', 'Medicine', 'Angel', 'Wicked Game - Recorded Live at St Canice Cathedral, Kilkenny', 'Waves', \"She's Always a Woman\", 'Youth', 'Praying', 'Scared to Be Lonely - Acoustic Version', 'Already Gone', 'Flares', 'Perfect - Acoustic', 'Perfect Duet (Ed Sheeran & Beyoncé)', 'Perfect Symphony (Ed Sheeran & Andrea Bocelli)', 'Praying', 'Rewrite The Stars', 'Angels', 'Supermarket Flowers', 'If I Were a Boy', 'Sober', 'High Hopes', 'Without Me', 'Stone Cold', 'Wicked Game', 'Never Enough', 'Need You Now', 'Just A Kiss', 'Die A Happy Man', 'Play It Again', 'From the Ground Up', \"I Don't Dance\", \"Blue Ain't Your Color\", 'Bless The Broken Road', \"In Case You Didn't Know\", 'Mine Would Be You', 'How Not To', 'Austin', 'Drink A Beer', 'Springsteen', 'Here Comes Goodbye - iTunes Exclusive', 'Colder Weather', 'Tomorrow', 'Let Me Down Easy', 'Come Over', 'Tin Man', 'The House That Built Me', 'I Drive Your Truck', 'Marry Me', 'Intro: Singularity', 'Intro: Serendipity', 'Spring Day', 'The Truth Untold', 'Save Me', '우린 봄이 오기 전에 Before Our Spring', 'Awake', 'Love Is Not Over (Full Length Edition)', 'dimple', '잡아줘 Hold Me Tight', 'House of Cards (Full Length Edition)', 'Coffee', 'Pied Piper', 'Stigma', 'First Love', 'Lie', 'Begin', 'Butterfly (Prologue Mix)', \"It's Definitely You\", 'BREATHE', 'Butterfly', 'I Need U (Urban Mix)', 'Run (Ballad Mix)', 'Lonely', 'forever rain', 'Take Your Time', 'Longevity', 'Moods of the Valley', 'Conscious Jorney', 'Man In The Moon', 'Yoga Nidra', 'Longing', 'Far and Beyond', 'Moonbeams', 'Fields', 'Threnody', 'Breeze Rain', 'River Rain', 'Summer Rain 2', 'Heavy Rain With Brown Noise', 'Light Intense Sleep Rain', 'Cozy Rain', 'River Rain Fall', 'Music For Sleep Thunderstorm, Rain', '20:17', 'Nordic Light', 'Some', 'Spa Sleep', 'Music for Sleeping (Piano With Ocean Waves)', 'Sleeping Music (Ocean Waves for Sleep)', 'Sleep Music (Soothing Piano Music)', 'Music to Help You Sleep', 'Sleep Music With Ocean Waves', 'Music for Sleeping (Stress Relief Music)', 'Sleeping Music (Sounds of Ocean Waves)', 'Piano and Ocean Waves for Sleep', 'Deep Sleep Ocean Waves', 'Sleep Music (Ocean Waves Meditation)', 'Music for Sleeping (Ocean Waves Relaxation)', 'Sleeping Music (Soothing Ocean and Piano)', 'The Best Piano and Ocean Waves', 'On the Shore (Sleep Music)', 'Music for Sleeping (Ocean Waves Sleep Aid)', 'Sleep Music (Calm Piano and Nature Sounds)', 'Sleeping Music (Ocean Waves Piano Insomnia Cure)', 'The Best Sleep Music', 'Sleep Music (on the Beach)', 'Music for Sleeping (Night Sky)', 'Sleeping Music (Soothing Sleep)', 'Sleeping Under the Stars', 'Music for Sleep', 'Sleep Music (Nightime Music)', 'Music for Sleeping (Quiet Music for Sleep)', 'Calmness', 'Relax and Sleep', \"Don't Go Where I Can't Find You\", 'Ambre', 'A Thousand Years', 'Unfaithful', 'Nothing Like Us - Bonus Track', 'The Fault in Our Stars', 'Skinny Love', \"We Don't Talk Anymore (feat. Selena Gomez)\", 'Say Something', 'Because of You', 'In My Head', 'Michigan', 'Figures', \"Ain't Nobody Takin My Baby\", 'Love The Way You Lie', 'What About Us', 'Perfectly Wrong', 'Flightless Bird, American Mouth', 'Turning Page', 'Oceans (Where Feet May Fail)', 'The Wisp Sings', 'Like Real People Do', 'Re: Stacks', 'I Found', 'Technicolour Beat', 'Atlas: Hearing', 'Rosyln', 'A Window to the Past', 'Harry in Winter', 'Losin Control', 'The Morning', 'All My Friends (feat. Tinashe & Chance the Rapper)', 'Fire & Desire', 'Exchange', 'Nights', 'Drama (feat. Drake)', 'Break From Toronto', 'Bed', 'Nikes', 'Marvins Room', 'Sure Thing', 'Teenage Fever', 'Get You (feat. Kali Uchis)', 'Best Part (feat. H.E.R.)', \"CAN'T SAY\", 'Lucid Dreams', 'Better', 'Right My Wrongs', 'Wus Good / Curious', 'Belong to You (feat. 6LACK)', 'Feels Like Summer', 'Try Me', 'TEST DRIVE', 'First Day Of My Life', 'Hello My Old Heart', 'Asleep - 2011 Remaster', 'I Will Follow You Into The Dark', 'Lua', 'Falling in Love at a Coffee Shop', 'Down in the Valley', 'Naked As We Came', 'Holocene', 'Bloom - Bonus Track', 'Skinny Love', 'Heal', 'Turning Page', '18', '9 Crimes', 'Drops of Jupiter', 'Breathe (2 AM)', 'This', 'One', 'Even My Dad Does Sometimes', 'I See Fire', 'Firefly - Loose Change EP Version', 'Cold Coffee - Songs I Wrote With Amy Version', 'Medicine', 'Sparks', 'Mess Is Mine', 'The Cave', 'Flume', 'Such Great Heights', 'Smother', 'Wait', 'Light', 'Earth', 'Gravity', 'Northern Wind', 'Slow It Down', 'Safe & Sound - from The Hunger Games Soundtrack', 'Sick of Losing Soulmates', 'Intertwined', 'Banana Pancakes', 'The Girl', 'Ends of the Earth', 'The Night We Met', 'Youth', 'Paint', 'To Be Alone With You', 'Berlin', 'Oceans', 'World Without You', 'Your Eyes', 'calles feat. tuamie', 'Smile', 'In Orbit', 'Stellar Nursery', 'The Polar Hexagon', 'Cosmic Oasis', 'Intro', 'Rooftop Kiss', 'Leaves', 'Mrs. Smith', 'I Miss You', 'Flight From The City', 'Þú ert jörðin', 'Stars - Remastered 2005', 'Healing Sleep Music', 'Sleeping Music (Cure Insomnia)', 'Sleeping Music (Sleep Aid)', 'Sleeping Music (Spa)', 'Music for Sleeping (Relaxation)', 'Music for Sleeping (Soothing Music)', 'Music for Sleeping (Soft Music)', 'Sleep Music (Healing Music)', 'Sleep Music (Natural Sleep Aid)', 'Sleep Music (Background Music)', 'The Best Sleeping Music', 'Studying Music', 'Relaxing Yoga Music', 'The Best Music for Sleep', 'Stress Relief Aid', 'Music for Massage', 'Music to Sleep by', 'Music for Massage Therapy', 'Spa Music Sleep', 'Focus and Concentration', 'Deep Sleep Meditation', 'Meditation and Spa', 'Calm Sleep', 'Music to Cure Insomia', 'Spa Relaxation Music', 'Soothing Sleep Songs', 'Piano for Sleep', 'Sleep Lullaby', 'Sleep Focus', 'Go to Sleep', 'Sleeping Music (Tidal Wave)', 'Take Me to Slumberland', 'Passed out Asleep', 'Crescent Moon', 'Music for Sleeping (Soft Piano)', 'Ocean Siesta', 'Shuteye', 'Sleep Music (Prism)', 'Hawaiian Gardens', 'Music for Sleeping (Cure Insomnia)', 'Sleeping Music (Soft Music)', 'Sleeping Music (Relaxation)', 'Sleeping Music (Natural Sleep Aid)', 'Sleeping Music (Spa Music)', 'Sleeping Music (Massage Therapy)', 'Sleeping Music (Meditation)', 'Music for Sleeping', 'Sleep Music (Deep Meditation)', 'Sleep Music (Focus)', 'Sleep Music (Stress Relief)', 'Cure Insomnia', 'Natural Sleep Aid', 'Deep Sleep Music', 'Relaxing Sleep Music', 'The Best Sleep Music', 'Rem Sleep', 'Soft Piano for Sleep', 'Gentle Sleep Music', 'Sleep Relaxation', 'The Best Music for Sleeping', 'Sleeping Music (Piano)', 'Sleeping Music (Calm Music)', 'Sleeping Music (Instrumental)', 'Sleeping Music (Soothing Music)', 'Sleeping Music (Background Music)', 'Music for Sleeping (Spa)', 'Music for Sleeping (Piano Music)', 'Music for Sleeping (Relaxing Piano)', 'Sleep Music (Music to Help You Sleep)', 'Sleep Music', 'Peaceful Sleep Music', 'Meditative Sleep', 'Serene Sleeping Music', 'Sleeping Piano Music', 'Soothing Piano Sleep', 'Ultimate Sleep Relaxation', 'Soft Dreams', 'The Best Music for Deep Sleep', 'New Age Piano Sleep', 'Sounds for Sleep', 'Quiet Sleep Music', 'Music for Sleeping (Soft Piano and Sounds of Rain)', 'Sleeping Music (Deep Sleep Rain Sounds)', 'Sleep Music (Soothing Piano and Rain Sounds)', 'The Best Piano and Rain Sounds for Sleep', 'Sleep Music (Calm Piano and Rain)', 'Music for Sleeping (Sounds of Rain and Piano)', 'Sleeping Music (Rain Sounds for Sleep)', 'Soft Piano and Nature Sounds (Rain)', 'Relaxing Music and Rain for Sleep', 'Sleep Music (Background Relaxation)', 'Music for Sleeping (Relaxing Music and Rain Sounds)', 'Drizzle Yourself to Sleep', 'Healing Rain Sounds', 'Sleeping Music (Calm Rain)', 'Sleep Music (Nature Sounds Rain)', 'Music for Sleeping (Spa Rain Sounds)', 'Sleeping Music (Rain Sounds for Deep Sleep)', 'Healing and Wellness (Rain)', 'Music for Relaxation (Sounds of Rain)', 'Sleep Music (Spa Rain)', 'Music for Sleeping (Rain Sounds Sleep Aid)', 'Sleeping Music (Rain Spa)', 'Deep Sleep (Rain Sounds)', 'Yoga Meditation (Rain Sounds)', 'Sleep Music (Droplets)', 'Music for Sleeping (Rain Meditation)', 'Sleeping Music (Rain Sounds Music)', 'Rain Sounds for Massage', 'Cure Insomnia (Rain Sounds for Sleep)', 'Sleep Music (Relaxing Nature)', 'Sleep Music - Piano and Ocean Waves', 'Sleep Music - Ocean Waves for Sleep', 'Sleep Music - Soothing Piano and Ocean Waves', 'Sleep Music - Deep Sleep Ocean Waves', 'Piano and Ocean Waves - Relaxing Music', 'Sleep Music - Ocean Waves Meditation', 'Piano and Ocean Waves - Soothing Music', 'Piano and Ocean Waves - Sleep Aid', 'Piano and Ocean Waves - Sleeping Music', 'Piano and Ocean Waves - Sleep Music', 'Sleeping Music - Soothing Sounds of Ocean Waves', 'Sleeping Music - Relaxing Waves', 'Sleeping Music - Soothing Sleep Sounds', 'Sleeping Music - Calm Piano and Ocean Waves', 'Sleeping Music - Deep Sleep Sounds', 'Music for Sleeping - Calmest Piano', 'Music for Sleeping - Soothing and Relaxing Music to Help You Sleep', 'Music for Sleeping - Ultimate Sleep', 'Music for Sleeping - Instrumental Piano', 'Music for Sleeping - Restful Sleep', 'Ocean Waves for Sleep - Calm Piano', 'Ocean Waves for Sleep - Relaxing Music', 'Ocean Waves for Sleep - Soothing Piano Music', 'Ocean Waves for Sleep - Sleep Aid', 'Deep Sleep Music - Piano', 'Ocean Waves for Sleep - Piano Relaxation', 'Deep Sleep Music - Sleeping Music', 'Deep Sleep Music - Music for Sleeping', 'Deep Sleep Music - Sleep Music', 'Deep Sleep Music - Calm Music', 'Music for Sleep and Relaxing Piano', 'Music for Sleep With Ocean Waves', 'Music for Sleep With Piano and Ocean Waves', 'Music for Sleep and Relaxation', 'Music for Sleep and Sleeping Music', 'Ocean Waves for Sleep and Relaxing Piano Music', 'Ocean Waves for Sleep and Piano Sleeping Music', 'Ocean Waves for Sleep and Calm Piano', 'Ocean Waves for Sleep and Soft Piano', 'Ocean Waves for Sleep and Piano Music for Sleeping', 'Sleeping Music and Sounds for Sleep', 'Sleeping Music With Piano and Ocean Waves', 'Sleeping Music Ocean Waves Piano', 'Sleeping Music and Calm Ocean Waves', 'Sleeping Music and Soothing Piano and Ocean Waves', 'Piano and Ocean Waves for Sleep', 'Piano and Ocean Waves for Spa', 'Piano and Ocean Waves for Massage', 'Piano and Ocean Waves for Relaxation', 'Piano and Ocean Waves for Sleeping', 'Music for Sleeping and Ocean Waves', 'Music for Sleeping and Piano With Ocean Waves Sounds', 'Music for Sleeping and Ocean Waves to Help You Sleep', 'Music for Sleeping and Deep Sleep Relaxation', 'Music for Sleeping and Soothing Sounds of the Ocean', 'Sleep Music and Calm Piano', 'Sleep Music and Ocean Waves Sleeping Aid', 'Sleep Music With Ocean Waves', 'Sleep Music and Soothing Ocean Waves Sounds', 'Sleep Music With Piano and Ocean Waves', 'Sleeping Music and Lavender Beach', 'Soothing Piano Sleep Music', 'Sleeping Music and Calm Ocean Waves', 'Music For Sleeping and Deep Sleep Piano', 'Ocean Waves and Piano Music', 'Music For Sleeping and Piano Sleep Aid', 'The Best Sleep Experience', 'Sleeping Music and Ocean Waves For Sleep', 'Suspended Consciousness', 'Passionate Slumbers', 'Relaxing REM Sleep', 'Sleeping and Breathing', 'Relaxing Sleep Therapy and Piano Ocean Waves', 'Lucid Dreaming and Sleep Music', 'Piano Music For Curing Insomnia', 'Piano Sleepiness', 'Sleep Music and Calm Piano Ocean Sounds', 'Music For Sleeping and Brand New Pillows', 'Effective Sleep Music', 'Sleeping Music and Dream With Me', 'Sleeping and Nodding Off', 'Calming Ocean and Piano Sleep Music', 'Slumbering Sleep Music', 'Music For Sleeping and Stars in the Sky', 'Resting and Relaxation With Ocean Waves Sounds For Sleep', 'Music For Sleeping With Rain Sounds', 'Sleeping Music and Sound Of Rain For Sleep', 'Rain Sounds For Sleep', 'Sleep Music Piano and Rain', 'Piano Music For Sleeping', 'Sleeping Music and Sounds For Sleep', 'Piano and Rain Sounds For Sleep', 'Rain Sounds Sleep Music', 'Deep Sleep Aid and Rain Sounds', 'Music For Sleeping and Rain Sounds Relaxation', 'The Best Sleeping Music and Sounds For Sleep', 'Soothing Rain Sounds For Sleep', 'Sleep Music Piano and Rain Sounds', 'Deep Sleep Aid Piano', 'Music For Sleeping and Sounds of The Ocean', 'Piano Sleeping Music With Rain Sounds', 'Deep Sleep Rain Sounds and Piano', 'Sleep Music and Rainy Piano', 'Calm Piano Deep Sleep Aid', 'Music For Sleeping and Deep Sleep Rain Sounds', 'Sleep Music and Rain Sounds For Spa', 'The Best Rain Sounds Piano For Sleep', 'Rain Sounds Deep Sleep Aid', 'Piano Music For Sleeping With Rain Sounds For Sleep', 'Sleeping Music and Soothing Sounds Of Rain', 'The Best Relaxing Sleeping Music', 'Rain Sounds and Soft Piano Music', 'Sleep Music and Calm Sounds of Rain For Sleep', 'Deep Sleep Aid and Relaxing Music', 'Music For Sleeping and Piano Music', 'Relaxing Piano and Ocean Waves', 'Sleep Relaxation', 'Relaxing Music', 'Meditation and Relaxation', 'Soothing Ocean Waves and Spa Music', 'Piano Relaxation', 'Ocean Waves For Deep Sleep', 'Relaxing Sleep Music', 'Sounds of Ocean Waves and Piano Music', 'New Age Piano and Ocean Waves', 'Calm Piano', 'Soothing Piano and Ocean Waves', 'Piano and Ocean', 'Soothing Piano Music', 'Piano For Sleeping', 'Meditation Music', 'Relaxing Piano Meditations', 'Calm Music', 'Asmr Ocean Waves and Piano Music', 'Thunderstorm Sounds and Rain Sound for Sleep', 'hope is a dangerous thing for a woman like me to have - but I have it', 'Say Love', 'An Ending (Ascent) - Remastered 2005', 'Sunflower - Spider-Man: Into the Spider-Verse', 'Stay With Me', 'Butterfly', 'Outro : Love is Not Over', 'Beautiful', 'I will go to you like the first snow', 'Say Yes', 'Smile Flower', 'Sing For You', 'I.L.Y.', 'Flowers', 'Everlong - Acoustic Version', 'Good Riddance (Time of Your Life)', 'Stairway to Heaven - Remaster', 'Under The Bridge', 'Kryptonite', 'Let It Be - Remastered 2009', 'Trouble', 'Speed of Sound', 'Otherside', 'Creep', 'Californication', 'Nothing Else Matters', 'Take Me Home, Country Roads - Rerecorded', 'Hero', '7 Years', 'Way Down We Go', 'Dirty Paws', 'Brave', 'lovely (with Khalid)', 'Lean Wit Me', 'Hey There Delilah', 'XO TOUR Llif3', 'Fade Into You', 'Hey Jude - Remastered 2015', \"This Year's Love\", 'When We Were Young', 'Stay - Album Version (Edited)', 'human', 'before I close my eyes', 'Save Myself', 'Dancing On My Own', 'Stay With Me', 'Lost Boy', 'Again', 'This Town', 'Sad Song (feat. Elena Coats)', \"Can't Help Falling in Love\", 'Lay Me Down', 'Unsteady', 'Fall For You', 'Faded', 'Naked', 'My Heart Will Go On - Love Theme from \"Titanic\"', 'Almost Is Never Enough', 'Flicker', 'Saturday Nights', 'I Get to Love You', \"We Don't Have To Take Our Clothes Off\", \"Vladimir's Blues\", 'Watermark', 'Caribbean Blue', 'Only Time', 'Prince Of Peace - Live', 'Tropical Storm', 'Rain Downpour', 'Nocturne in a Minor', 'Not About Angels', 'Light of the Seven', 'Old Pine', 'The End of All Things', \"I'm A Mess\", 'Always', 'falling down (Feat. shiloh)', 'Time', \"Where's My Love - Piano Solo\", 'Norrsken', \"Bella's Lullaby\", 'The Council of Elrond (feat. \"Aniron) (Theme for Aragorn and Arwen \")', 'Weightless Part 1', 'Weightless Part 3', 'Weightless Part 4', 'Say You Love Me', 'Somebody That I Used To Know - feat. Kimbra', 'Your Body Is a Wonderland', 'The Only Exception', 'When I Look At You', 'Talking to the Moon', 'So Far Away (feat. Jamie Scott & Romy Dya)', 'In the Name of Love', 'Ocean (feat. Khalid)', 'Scared to Be Lonely', 'For Stormboy', 'Berceuse (Scaled Down Version)', 'Sea Mist', 'Qi', 'Nightingale (Scaled Down Version)', 'Sunday Stroll', 'Sentimental', 'A Game of Badminton', 'Trieste', 'Only Questions', 'Awakening', 'Deco', 'Stairs and Steps', 'Written on the Sky', 'Reminiscence', \"iT's YoU\", 'Grenade', 'All I Ask', 'Quit (feat. Ariana Grande)', 'Collide', 'One Call Away', 'Count on Me - EP Version', \"I Won't Give Up\", 'So Sick', 'Wonderful Tonight', 'Tears In Heaven', \"It's Gotta Be You\", 'Locked Out of Heaven', 'Right Here Waiting', 'This Town (feat. Sasha Sloan)', 'Lights Down Low', \"Can't Fight This Feeling\", 'Malibu Nights', 'Rain Sound : Dark Sky', 'You & I (Nobody in the World)', \"I Hate U I Love U (feat. Olivia O'Brien)\", 'Life Is Worth Living', 'Not In That Way', \"I'm Not The Only One\", 'Thinkin Bout You', 'Butterfly Fly Away', 'Jungle', 'fOoL fOr YoU', 'Malibu', \"I Think I'm In Love\", 'Wrecking Ball', 'Slow Hands', \"How Far I'll Go\", 'rockstar', 'Orlando', 'Deja Vu', 'Congratulations', 'Tonight I Wanna Cry', 'Coaster', \"Something's Gotta Give\", 'idontwannabeyouanymore', 'ocean eyes', 'Love Lies (with Normani)', 'Better', 'Seasons (feat. Khalid)', 'Wicked Games', 'Close Friends (Lil Baby & Gunna)', 'Disconnect', 'Million Reasons', 'imagine', 'WANTED U', 'Get You The Moon (feat. Snøw)', 'Pursuit Of Happiness (Nightmare)', 'Die Trying', 'Young And Beautiful', 'Sweater Weather', \"I'm Not The Only One\", 'Let Her Go', 'Turning Tables', 'Too Good At Goodbyes', 'A Little Too Much', 'This Town', 'The Climb', 'Sweet Creature', 'Hold On', 'All We Do', \"Don't Forget About Me\", 'Life Of The Party', 'How Would You Feel (Paean)', 'Grand Piano', 'If I Could Fly', 'Yellow', '1-800-273-8255', 'Flaming Hot Cheetos', 'Die For You', 'Look After You', 'Youth (feat. Khalid)', 'Dust in the Wind', 'Six Feet Under', 'Blue Lights', 'Grenade', 'Wait', 'It Is Well (Live)', 'Paranoid', 'Rich & Sad', 'Over Now', 'Psycho (feat. Ty Dolla $ign)', 'Better Now', 'Blame It On Me', 'I Fall Apart', 'Save Me', 'Call Out My Name', 'ALONE, PART 3', 'Moonlight', 'infinity (888) - feat. Joey Bada$$', \"I Don't Wanna Do This Anymore\", 'All Girls Are The Same', 'Lucid Dreams', 'Apparently', 'Doing It Wrong', '66', 'Lust', 'Red Roses (feat. Landon Cube)', 'Shoota (feat. Lil Uzi Vert)', 'Praise The Lord (Da Shine) (feat. Skepta)', 'Yeah Right', 'Save That Shit', 'Spotlight', 'Awful Things', 'Beamer Boy', 'The Brightside', 'Legends', 'Rich And Blind', 'Reborn', 'Nowadays (feat. Landon Cube)', 'Will He', 'SAD!', 'STARGAZING', 'SICKO MODE', 'Privilege', 'See You Again', 'Wasted (feat. Lil Uzi Vert)', 'Benz Truck (гелик)', 'Neighbors', 'Wet Dreamz', 'Betrayed', 'All Girls Are The Same', 'Black & White', 'SLOW DANCING IN THE DARK', 'East Atlanta Love Letter (feat. Future)', 'Falling Down - Bonus Track', \"Don't Cry (feat. XXXTENTACION)\", 'Arms Around You (feat. Maluma & Swae Lee)', 'Midnight Thunderstorm Part 2', 'Sound of Nature - Rain, Thunderstorm', \"Sorry for Not Answering the Phone I'm Too Busy Trying to Fly Away\", 'Demons', \"if you're not the one for me who is\", 'The Night We Met (feat. Phoebe Bridgers)', \"I Don't Wanna Waste My Time\", 'Big Jet Plane', 'River Flows In You', 'Solitude', 'From Night to Morning', 'Simplicity', 'Fallingforyou', 'Beach Baby', \"Can't Help Falling In Love (Recorded Live at Daytrotter)\", 'Budapest', 'Intro', 'Cigarette Daydreams', 'Blindsided', 'I Found', 'Keep Your Head Up', 'Dirty Paws', 'Nana', 'Chanel', 'YEAH RIGHT', 'In Color', 'Fire Away', 'What Ifs', 'Tennessee Whiskey', 'Body Like A Back Road', 'Mercy', 'Meant to Be (feat. Florida Georgia Line)', 'Like I Loved You', 'Hurricane', 'Heaven', 'So Will I (100 Billion X)', 'H.O.L.Y.', 'Shot Down', 'You Make It Easy', 'Tequila', 'Reckless Love', 'Beautiful Crazy', 'Speechless', 'Break up in the End', 'Lay Me Down', 'BLUE', 'Uncover', 'Secret Love Song', 'O Come to the Altar (Live)', 'Even When It Hurts (Praise Song) - Live', 'Build My Life', 'Cello Suite No. 1 in G Major, BWV 1007: I. Prélude', 'So Far Away', 'Epilogue: Young Forever', 'Hold Me Tight', 'Like (Slow Jam Remix)', \"It's You\", 'Pinwheel', 'For You', 'LAST DANCE', 'Universe', '지나갈 테니 Been Through', 'Blue Side (Outro)', 'Hold Me', '누군가 필요해 I Need Somebody', 'sorry', 'Serendipity (Full Length Edition)', 'Epiphany', 'Trivia 轉 : Seesaw', 'Singularity', 'Answer : Love Myself', 'seoul (prod. HONNE)', 'tokyo', 'She Is Love', 'Ho Hey', 'Chasing Cars', \"I'm Yours\", 'Secrets', 'For the First Time', 'Paradise', 'Fireflies', 'Gone, Gone, Gone', 'Somewhere Over The Rainbow_What A Wonderful World', 'Here Comes The Sun - Remastered 2009', 'Good Life', \"I Won't Give Up\", '1, 2, 3, 4', 'Marry Me', 'Come On Get Higher', 'Say', 'Over My Head (Cable Car)', \"The Man Who Can't Be Moved\", 'You And Me', 'Nothing', 'Stop And Stare', 'Daughters', 'Gravity', 'Dreaming with a Broken Heart', 'Better Together', 'Bad Day', 'The Reason', 'Wonderwall - Remastered', 'Collide - Acoustic Version', 'Riptide', 'I Was Made For Loving You', 'Wake Me up When September Ends', 'Blackbird - Remastered 2009', 'She', 'From the Dining Table', 'Concerning Hobbits', 'The Breaking of the Fellowship (feat. \"In Dreams\")', \"Bilbo's Song\", 'Evenstar', 'May It Be', 'Untitled', 'Happiness', 'Meet Me in the Hallway', 'Sign of the Times', 'Two Ghosts', 'Ever Since New York', 'Better', 'Sunflower', 'Corduroy Dreams', 'needy', 'ghostin', 'NASA', \"Nothing's Gonna Hurt You Baby\", 'Tremble - Live', 'You Say', 'Make It To Me', 'Nervous - Acoustic', 'Magnetised - Acoustic', 'Bruises', 'Stone Cold', \"Don't\", 'Safe & Sound - from The Hunger Games Soundtrack', 'Love Me or Leave Me', 'Depression & Obsession', 'bitches broken hearts', 'Stairway to Heaven - 1990 Remaster', 'Hotel California - Eagles 2013 Remaster', 'Kiss From A Rose', 'Iris', 'Wind Of Change', 'The Sound of Silence', 'Use Somebody', 'Georgia', 'Car Radio', 'Afire Love', \"Ain't Nobody (Loves Me Better) - Acoustic\", 'She Will Be Loved - Acoustic', 'Growing Up (feat. Ed Sheeran)', 'Some Kind Of Drug', 'Oblivion', \"Hold On, We're Going Home\", 'Shape of You - Acoustic', 'Eraser', 'Riptide', 'Psycho, Pt. 2', 'lovely (with Khalid)', 'The Night We Met', 'Love Yourz', 'Losin Control', 'Self Care', 'Roses (with Juice WRLD feat. Brendon Urie)', 'whoa (mind in awe)', 'The Plateaux Of Mirror - 2004 Digital Remaster', \"Don't Bother They're Here\", 'Girl Nap', 'Someone To Stay', \"Hedwig's Theme\", 'Over Again', \"I'll Be\", 'Right Now', 'Summer Love', \"Fool's Gold\", 'Once in a Lifetime', 'I Miss You', 'I Don’t Wanna Live Forever (Fifty Shades Darker)', 'A.M.', 'Long Way Down', 'I Want to Write You a Song', 'How Would You Feel (Paean)', 'How Does A Moment Last Forever (Montmartre)', 'Evermore', 'Here Without You', \"Hearts Don't Break Around Here\", 'Everything Has Changed', '7 Years', 'Back To December', 'Secret Love Song, Pt. II', 'Neon Moon', 'Hold On', 'Who Do You Love (with 5 Seconds of Summer)', 'Ghost Of You', 'Ave Nocturne', 'Psycho (feat. Ty Dolla $ign)', 'Don’t Matter To Me', 'Too Young', 'WAKE UP', 'Carry On', 'Often', 'The Hills', 'Wake Up in the Sky', 'Sunflower - Spider-Man: Into the Spider-Verse', 'Lost in the Fire', 'YOSEMITE', 'Murder On My Mind', 'Taking A Walk', 'Talk', 'OTW', 'Do Not Disturb', 'Empty', 'i', 'Ride Slow', 'Ultralight Beam', 'Maze', 'Wasted Times', 'All We Do', 'A Sky Full of Stars', 'Lose It', 'Landslide', 'She Will Be Loved', 'Somebody Else', 'Let It Go', 'Samson', 'Video Games - Remastered', 'When We Were Young', 'Set Fire to the Rain', 'Breathe Me', 'Til Kingdom Come', 'Juke Jam (feat. Justin Bieber & Towkio)', 'Please Be Naked', 'Same Drugs', 'Sober', 'The Reason', 'Need The Sun To Break', 'Stay With Me - Live From Spotify Berlin', 'Heartbeats', \"Don't You Remember\", 'Fantasy', 'Make You Feel', 'River Of Tears', 'One Man Can Change The World', 'Remedy', 'Georgia', 'The Worst', 'Hear You Me', 'Japanese Denim', 'Outro: Her', \"Don't Leave Me\", 'Let Go', 'FAKE LOVE', '134340', 'Paradise', 'Love Maze', 'Magic Shop', 'Euphoria', 'Trivia 承 : Love', \"I'm Fine\", 'Waste It On Me (feat. BTS)', 'moonchild', 'badbye', 'uhgood', 'everythingoes', 'Serene Thunderstorm in the Distance', 'Rain And Thunder', 'Rain Sounds', 'White Noise Rain', 'Florida Rain Storm', 'Rain & Thunder', 'Discover Relax with a Thunderstorm', 'Thunderstorm with Hard Rain for Selflessness and Emotional Health', 'Thunder and Rain', 'Riverside', 'Stay With Me', \"Don't Wanna Be Your Girl\", 'Near Light', 'Yours', \"I'll Be Good\", 'Flightless Bird, American Mouth - Wedding Version', 'Half a Heart', 'Locked Away', 'Love Yourself', 'One Call Away', 'So Cold (The Good Wife Trailer)', 'This Is My Version', 'Helium - From \"Fifty Shades Darker (Original Motion Picture Soundtrack)\"', 'Willow', 'Latch - Acoustic', 'All of the Stars - non soundtrack version', 'Heartless', 'Cry Me a River', 'Novacane', 'Dreams - 2004 Remaster', 'Work Song', 'Slow Dancing in a Burning Room', 'If I Ain’t Got You - James Bay Spotify Session 2015 \"Alicia Keys Cover\"', \"I'm Gonna Be (500 Miles)\", 'Make Me (Cry) - Acoustic Version', 'Liability', 'The Chain - 2004 Remaster', '26', 'If I Believe You', 'Before You Start Your Day', 'A Little More', 'Easily', 'The One That Got Away - Acoustic', 'I Don’t Wanna Live Forever (Fifty Shades Darker) - From \"Fifty Shades Darker (Original Motion Picture Soundtrack)\"', 'Over And Over Again', 'Just A Little Bit Of Your Heart', 'I Have Questions', 'The Letter', 'Love On The Brain', 'Consequences', 'All These Years', 'Real Friends', 'Let Me', 'Make You Feel My Love', 'Consequences - orchestra', 'STAY', 'Not In That Way', 'Chasing Cars', \"Day 'N' Nite (nightmare)\", 'Wet Hands', 'Losin Control', 'Selfish', 'Pink + White', 'With Me', 'River', 'How Long Will I Love You - Bonus Track', 'If I Die Young', 'Hanging By A Moment', 'Magic', \"The Man Who Can't Be Moved\", 'Sweet Creature', 'Not Over You', 'Bubbly', 'You Are The Reason', 'I Don’t Wanna Live Forever (Fifty Shades Darker)', 'Shiver', 'Girl Crush - Recorded at Metropolis Studios, London', 'Distant Thunder Only', 'feelings fade', \"You're Still The One\", 'I See Fire', 'Somebody Else', 'Bleeding Love', 'Better in Time', 'We Belong Together', 'Iris', 'Beneath Your Beautiful', 'Leave Your Lover', 'Hello', 'Lego House', \"tell me it's okay\", 'Too Good At Goodbyes', 'Idfc', 'Marvins Room', 'Certain Things (feat. Chasing Grace)', 'Robbers', 'Ivy', 'Self Control', 'Love Galore (feat. Travis Scott)', 'Best Part (feat. Daniel Caesar)', 'The Weekend', 'Hallucinations', 'Electric (feat. Khalid)', 'Adorn', 'Reasons', 'Therapy', 'Cold Blooded', 'Cherry Hill', 'i miss the old u', 'Let You Down', 'Best Thing I Never Had', 'My Boo', 'Ex Calling', '1-800-273-8255', 'Love You Goodbye', 'Too Much To Ask', 'The Story Never Ends', 'Mine', 'U Got It Bad', 'Back To Sleep', 'Earned It (Fifty Shades Of Grey) - From The \"Fifty Shades Of Grey\" Soundtrack', 'PILLOWTALK', \"Let's Get Lost\", 'Make It To Me', 'All I Ask', 'Hurt You', 'Every Little Thing She Does Is Magic', 'Loving Is Easy', 'A Song About Being Sad', 'A Million Dreams', 'Back To You - From 13 Reasons Why – Season 2 Soundtrack', 'This Way', 'Goodbyes', 'Tomorrow', \"Don't Watch Me Cry\", 'In My Feelings', 'Easily', 'Eastside (with Halsey & Khalid)', 'Cursive', 'If This is Love', \"Could've Been (feat. Bryson Tiller)\", 'Every Kind Of Way', \"You're My Girl (Lost Recording #6)\", 'God is a woman', 'R.E.M', 'better off', 'Hold Me Down', 'Loose', \"Don't Forget About Me\", 'Happier', 'COPYCAT', 'my boy', 'watch', 'party favor', 'bellyache', 'Fake Plastic Trees', 'Addict With A Pen', 'A Car, A Torch, A Death', 'Me', 'Colors - Stripped', 'DNA', 'Blood Bank', 'White Blood', 'Cringe - Stripped', 'Too Much To Ask', 'Dusk Till Dawn - Radio Edit', 'Silhouette', 'Sick of Losing Soulmates', 'Oceans', 'Liability', 'Bored', 'ocean eyes', 'I Need My Girl', 'better off', 'Postcard (feat. Gordi)', 'Wash.', \"i can't breathe\", 'Taxi Cab', 'Goner', 'Everybody Loves You', 'For Emma', 'all of my life', 'I Miss You', 'FOOL', 'Palette (Feat. G-DRAGON)', 'Daddy Issues', 'Spring Day', 'Awake', 'Stigma', '2! 3!', 'Let Me Know', 'Coffee', 'Rain', 'Just One Day', 'Quiet Rain Showers & Rolling Thunder Storms Imix for Mom’s Napping Toddler', 'Friends', 'Rivers and Roads', 'Six Feet Under', 'Heartbeats', 'Sea of Love', 'New Slang', 'Promise', 'Only', 'YEAH RIGHT', 'Picture Frames', 'ATTENTION', 'Once Upon a Dream - From \"Maleficent\" / Pop Version', 'WHEN I WAS OLDER - Music Inspired By The Film ROMA', 'Pills', 'Come Back to Earth', 'Photograph', 'A Little Too Much', \"I'm Not The Only One\", 'She Will Be Loved - Radio Mix', \"Big Girls Don't Cry (Personal)\", 'Wherever You Will Go', 'Boys Like You - Acoustic', 'Helium', 'Safe Inside', 'Wait for You', 'Roses', 'thank u, next', 'Like This', 'Superheroes', \"You're Beautiful\", 'breathin', 'Shiver', 'More Than This', 'Like', 'Bloodstream', 'Impossible Year', 'Breathe Me', 'Mark My Words', 'Love Story', 'Falling Slowly', 'New Light', 'Hello', 'Video Games - Remastered', 'arms', 'Mr. Brightside', 'My Immortal', 'Hurts Like Hell', \"When You Can't Sleep At Night\", 'Misguided Ghosts', 'Almost Lover', 'Be Still', 'Landslide', \"I'm Gonna Be (500 Miles)\", 'Poison & Wine', 'Amsterdam', 'Moon River', 'The Only Thing', 'Please Never Fall in Love Again', 'Space Song', \"I Don't Want to Miss a Thing\", 'Careless Whisper', 'End Of The Road', 'In the Forest Rain', 'Rain at Dawn', 'Warm Forest Rain', 'Camping Rain', 'Exotic Rain', 'Rain Sounds: Rainfall', 'Perfect Rain', 'Wet Dreams of Rain', 'Rain in the Park', 'Forest Thunderstorm', '3D Thunderstorm Sound Binaural Recording for Relaxation', 'Loopable Soft Rainfall for Sleep', 'Dock Rain', 'Rain for Sleep', 'Focus Rain', 'Calm Rain Storm & Gentle White Noise', 'Brain Relaxation Sky', 'Terrible Things', 'Water Under the Bridge', 'Morning', 'ILYSB - STRIPPED', 'The Other', 'The Loudest Silence', 'Love', 'Just You and I - Acoustic', 'Boston', \"Don't listen in secret\", 'Dawning', 'What A Time (feat. Niall Horan)', 'No Matter What', 'Let Me Down Slowly (feat. Alessia Cara)', 'Over And Over Again', 'Oblivion', \"If I Go, I'm Goin\", 'Beautiful Crazy', \"When I'm Gone\", 'High For This', 'Slow Motion', 'Molly (feat. Brendon Urie of Panic at the Disco)', 'Go Flex', 'Viva La Vida', 'Let You Down', 'From Time', 'Psycho (feat. Ty Dolla $ign)', 'Guardian angel', 'Space Bound', 'goosebumps', 'Mockingbird', 'Higher Love', 'To Build A Home', 'Pink Matter', 'Since Way Back', 'Let Me Explain', 'FACE', 'Come Through and Chill', 'Kevin’s Heart', 'Missin You Crazy', 'Pretty Little Fears (feat. J. Cole)', 'Your Song', 'Symphony (feat. Zara Larsson)', 'Attention', 'I Will Follow You Into The Dark', 'Should Have Known Better', 'Reflection - From \"Mulan\" / Soundtrack Version', 'Butterfly', 'Habit', 'instagram', 'Ending Scene', 'LOVE SCENARIO', 'Through the Night', 'Make You Miss Me', 'All Mine', \"Boo'd Up\", 'Taste (feat. Offset)', 'Solo (feat. Demi Lovato)', 'Hopeless Romantic (feat. Swae Lee)', 'I Love It (& Lil Pump)', 'Trip', 'New Patek', 'ZEZE (feat. Travis Scott & Offset)', 'Armed And Dangerous', 'Wow.', '7 rings', 'Mixed Personalities (feat. Kanye West)', 'a lot', 'To Build A Home (feat. Patrick Watson)', 'King', 'La Lune', 'Vigil', 'Now Is The Time To Leave', 'Dead Inside (Interlude)', 'Ayala (Outro)', 'love yourself (interlude)', 'Looking for a Star', 'BAD!', 'difference (interlude)', 'I don’t let go', 'what are you so afraid of', 'Relaxation Rain', 'Good Night Sleep', 'Heavy Straight Rain', 'Sleep Rain', 'A Silver Lining', 'From Afar', 'Heartbreak Warfare', 'Half of My Heart', \"Fallin'\", 'Scared to Be Lonely', 'Numb', 'Feel Good Inc', 'Every Breath You Take - Remastered 2003', 'Every Rose Has Its Thorn - Remastered 2003', 'Human', 'Wish You Were Here', 'Leave Me Alone', 'REEL IT IN', 'Drowning (feat. Kodak Black)', 'Mist and Thunderclaps', 'Ultimately', 'bellyache', 'Vienna', 'Sorry', 'Rainbow Connection', 'Streetcar', 'Palace', 'My Love, My Life', '#3', 'This Is Home', 'Secret For The Mad', \"You Say I'm in Love\", \"No I Don't Want, Just Anyone\", 'IDGAF', \"Don't Wanna Cry\", 'D (Half Moon)', 'Crystal Snow', 'Upside Down', 'Let Me Love You', 'Deep Rain', 'Thunderstorm by the Waterfall', \"Summer's End\", 'Suaimhneas', 'Chasing Cars', 'Need You Now', 'Leave a Light On', 'Somewhere Only We Know', 'Can’t Help Falling in Love', 'no tears left to cry', \"I'll Be Good\", 'Trip', 'Broken Clocks', 'Shallow - Radio Edit', 'Mixed Signals', 'We Find Love', 'Homesick', '7 Minutes', 'You Say', 'The Story Never Ends', 'Superhero', 'Use Somebody - Recorded at Spotify Studios NYC', 'What About Us', 'Just a Dream', 'Coming Home', \"I'll Never Love Again - Film Version - Radio Edit\", 'Godspeed', 'White Ferrari', 'Seigfried', 'Young Dumb & Broke', 'Winter', 'Power Trip', 'Sativa', 'Hey Brother', 'Beautiful', 'In My Blood', 'FRIENDS', 'One Day', 'Silence', 'Just the Way You Are', 'High Hopes', 'I Wanna Know (feat. Bea Miller)', 'Grand Piano', 'Garden (Say It Like Dat)', 'Provider', 'Biking', 'True Colors', 'Poison', 'In My Mind', 'Thunderstorm Approaching', 'Bosque', 'Dark Rain Sound', 'Spring Rain', 'Heaven', \"She Don't (feat. Ty Dolla $Ign)\", 'Sunday Candy', 'Married Life', 'Berlin', \"Please Don't Say You Love Me\", 'Mad World (Feat. Michael Andrews)', 'Lost Without You', 'Best Mistake', 'Come Away With Me', \"I Can't Make You Love Me\", 'Thinking out Loud', 'Anxiety (with Selena Gomez)', 'Crew (feat. Brent Faiyaz & Shy Glizzy)', 'I Feel It Coming', 'Jump Out The Window', 'Me, Myself & I', 'Closer', 'Roses', 'Stargazing', 'Paris', 'BLEACH', 'Window', 'Earned It (Fifty Shades Of Grey)', 'Yikes', 'Think About Me', 'bury a friend', 'you should see me in a crown', 'Habits of My Heart - EP Version', 'TALK ME DOWN', 'One Sweet Day', 'Focus', 'Monsun Rain Fall', 'Never Ending Rain', 'At the Mercy of the Waves', 'Ferrum', 'Get You (feat. Kali Uchis)', '(No One Knows Me) Like the Piano', 'Blessed', 'Paris in the Rain', 'Visions of Gideon', 'Afternoon Rain', 'FourFiveSeconds', 'Ghost Town', 'Violent Crimes', \"Wouldn't Leave\", 'One Way (feat. T-Pain) - Bonus', '2009', 'Unfair', 'Stan', 'Hurts Like Hell', 'Surrender', 'talk is overrated', 'She Got the Best of Me', 'You and Tequila', 'Love', 'Perfect', 'Drunk', 'What Do I Know?', 'I Like Me Better', \"Don't\", 'Rain against Ground', 'Come Home', 'River (feat. Ed Sheeran)', 'Fight Song', 'do re mi', 'Lie', 'Good Enough', 'Lost Without You', 'Empty Space', 'Grace', 'Asleep - 2008 Remaster', 'Castle on the Hill', 'Africa', 'More Than Words', 'Stolen Dance', 'The Judge', 'On Melancholy Hill', 'Cleopatra', 'Chlorine', 'Morph', 'R.I.P. (feat. Trippie Redd)', 'COME THRU', 'Hide (feat. Seezyn)', 'The Less I Know The Better', 'Let Her Go', 'Sunflower Feelings', \"You'll Be In My Heart\", 'Time After Time', 'White Iverson', 'Tightrope', 'Wolves', '1950', 'Remind Me to Forget', 'Bad Liar', 'Youth feat. Khalid', 'All I Ever Need', 'Used to Be', 'Wake Me Up', 'Shape of You', 'Galway Girl', 'Sweet but Psycho', 'Water Fountain', 'Everyday', 'all the kids are depressed', 'This Is Gospel', 'Love Scars', 'XO', 'Train Wreck', 'Pretty Hurts', 'Royals', 'Into You', 'Lost In Japan', 'One Kiss (with Dua Lipa)', 'Nothing Breaks Like a Heart (feat. Miley Cyrus)', 'For Her', 'Something Just Like This', \"Please Don't Say You Love Me\", 'Way Down We Go', \"It's Gotta Be You\", 'Bruises', 'Brother', 'Broken', 'Stubborn Love', 'Ophelia', 'Sex on Fire', 'Strawberries & Cigarettes', 'Revelation (From \"Boy Erased\")', 'imagine', 'Scars To Your Beautiful', 'Lost On You', 'Girl Crush', 'Radioactive', 'Tiny Dancer', 'If I Die Young (Glee Cast Version)', 'True Colors - Film Version', 'Runaway', \"Ain't No Sunshine\", 'Airplanes (feat. Hayley Williams)', 'Set Fire to the Rain', 'I Have Nothing', 'I Will Always Love You', 'Suicide', 'Ashes - from \"Deadpool 2\" Motion Picture Soundtrack', \"It's All Coming Back to Me Now\", '6/10', 'Bad Reputation', 'Little Lion Man', 'I Want It That Way', 'Infinity', 'Let Me Down Slowly', 'Little Talks', 'It Takes Time', 'Love Scars 3', 'Demons', 'Berlin', 'Love Yourself', 'Sunday Morning', 'Everytime', 'Best Friend', 'Stop This Train', 'Ophelia', 'I See the Light - From \"Tangled\" / Soundtrack Version', 'Edition', 'Who Hurt You?', 'Sauce!', 'goodnight n go', \"Don't Know Why\", 'Lips Of An Angel', 'House Of Gold', 'If You Want Love', 'Beautiful', \"Don't Be A Fool\", 'FOOLS', 'Only Love', 'Versace On The Floor', 'My Favorite Part', \"It Ain't Me (with Selena Gomez)\", 'Promises (with Sam Smith)', 'Like To Be You feat. Julia Michaels', 'BAD!', 'Scared of the Dark (feat. XXXTENTACION)', 'Sleep On The Floor', \"i'm so tired...\", \"Don't Let Me Down\", 'Stressed Out', 'Heathens', '21 Guns', 'Trees', 'Death Of A Bachelor', 'Skinny Love', 'Never Enough (Reprise)', 'A Million Dreams (Reprise)', 'All Time Low', 'Fast', '11 Blocks', 'Dazed & Confused', 'Never Not', 'Rewrite The Stars (with James Arthur & Anne-Marie)', 'Dancing With A Stranger (with Normani)', 'Falling Down - Bonus Track', '44 Bars', 'Take Me Away (feat. Syd)', 'Blessings', 'Lover Is a Day', 'Lo Que Siento', 'Head Above Water', 'Liability', 'Cough Syrup', 'Midsummer Madness', 'In My Blood - Acoustic', 'Honesty', 'You Raise Me Up', 'Pumped Up Kicks', \"Emperor's New Clothes\", 'Welcome to the Black Parade', 'In The End', 'MOVE', 'Delicate', 'New Year’s Day', 'In My Blood', 'Nevermind', 'Girls Like You (feat. Cardi B)', \"There's Nothing Holdin' Me Back\", 'Treat You Better', \"break up with your girlfriend, i'm bored\", 'Beautiful (feat. Camila Cabello)', \"When You're Gone\", 'Starboy', 'Your Song', \"Maybe It's Time\", 'You And Me', 'Mine', 'See You Again (feat. Charlie Puth)', 'Hold My Girl', 'Robbery', 'Linger', 'Zombie', 'Zombie', 'Ride', 'She Wonders Why', 'Back To You', 'How You Remind Me - LP Mix', 'Renegades', 'Try', 'Lucky You (feat. Joyner Lucas)', 'Summertime Magic', \"Rocket Man (I Think It's Going To Be A Long, Long Time)\", 'She Used To Be Mine', 'This Is Me', 'Bandito', 'Stereo Hearts (feat. Adam Levine)', 'Lava', 'Little Talks', 'Counting Stars', 'MIDDLE CHILD', \"That's What I Like\", 'Believer', 'Sucker', 'Beautiful Trauma', 'Little Talks', 'Misery Business', 'The Greatest Show', 'Come Alive', 'The Other Side', 'From Now On', 'Never Be the Same', 'Home', 'Youngblood', 'Budapest', \"Writing's On The Wall\", 'A Million Dreams']\n"
     ]
    }
   ],
   "source": [
    "#print(set(map(lambda x: (x[1]['name'],x[1]['artists']['names'],x[1]['track_occurances']), list(filtered_tracks.items()))))\n",
    "print(list(map(lambda x: x[1]['name'], list(filtered_tracks.items()))))"
   ]
  },
  {
   "cell_type": "code",
   "execution_count": 149,
   "metadata": {},
   "outputs": [],
   "source": [
    "df = pd.DataFrame(filtered_tracks).transpose()\n",
    "df.index.name = 'song.id'\n",
    "df.to_csv(search_term + '_dataset.csv')"
   ]
  },
  {
   "cell_type": "code",
   "execution_count": 151,
   "metadata": {},
   "outputs": [
    {
     "name": "stdout",
     "output_type": "stream",
     "text": [
      "{'disc_number': 1, 'duration_ms': 199931, 'episode': False, 'explicit': False, 'href': 'https://api.spotify.com/v1/tracks/14JzyD6FlBD5z0wV5P07YI', 'id': '14JzyD6FlBD5z0wV5P07YI', 'is_local': False, 'name': \"when the party's over\", 'popularity': 93, 'preview_url': 'https://p.scdn.co/mp3-preview/16ec3dacdae0fddfa5e1fa25e8b7e74bbfd66a0d?cid=b48aa986c53946d3b37781455e256dd4', 'track': True, 'track_number': 1, 'type': 'audio_features', 'uri': 'spotify:track:14JzyD6FlBD5z0wV5P07YI', 'banger_occurances': 183, 'artist.name': 'Billie Eilish', 'artist.id': '6qqNVTkY8uBg9cP3Jd7DAH', 'external_ids.isrc': 'USUM71815958', 'isBanger': False, 'danceability': 0.498, 'energy': 0.104, 'key': 1, 'loudness': -14.08, 'mode': 0, 'speechiness': 0.0621, 'acousticness': 0.979, 'instrumentalness': 7.86e-05, 'liveness': 0.0895, 'valence': 0.205, 'tempo': 124.001, 'track_href': 'https://api.spotify.com/v1/tracks/14JzyD6FlBD5z0wV5P07YI', 'analysis_url': 'https://api.spotify.com/v1/audio-analysis/14JzyD6FlBD5z0wV5P07YI', 'time_signature': 3}\n"
     ]
    }
   ],
   "source": [
    "print(filtered_tracks['14JzyD6FlBD5z0wV5P07YI'])"
   ]
  },
  {
   "cell_type": "code",
   "execution_count": null,
   "metadata": {},
   "outputs": [],
   "source": []
  }
 ],
 "metadata": {
  "kernelspec": {
   "display_name": "Python 3",
   "language": "python",
   "name": "python3"
  },
  "language_info": {
   "codemirror_mode": {
    "name": "ipython",
    "version": 3
   },
   "file_extension": ".py",
   "mimetype": "text/x-python",
   "name": "python",
   "nbconvert_exporter": "python",
   "pygments_lexer": "ipython3",
   "version": "3.6.5"
  }
 },
 "nbformat": 4,
 "nbformat_minor": 1
}
