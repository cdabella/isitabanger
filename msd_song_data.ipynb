{
 "cells": [
  {
   "cell_type": "code",
   "execution_count": 1,
   "metadata": {},
   "outputs": [],
   "source": [
    "\"\"\"\n",
    "This file is for playing around with song data from the MSD data set.\n",
    "In particular, we are interesting in getting all of the data out in\n",
    "an exportable manner.\n",
    "\n",
    "We can't get all of the information from the summary file, we have to\n",
    "open all files and extract the data to do this.\n",
    "\"\"\"\n",
    "\n",
    "import os\n",
    "import numpy as np\n",
    "import pandas as pd\n",
    "import matplotlib.pyplot as plt\n",
    "import glob\n",
    "import hdf5_getters\n",
    "from pprint import pprint\n"
   ]
  },
  {
   "cell_type": "code",
   "execution_count": 2,
   "metadata": {},
   "outputs": [],
   "source": [
    "# change these as appropriate.\n",
    "msd_subset_path = '../MillionSongSubset'\n",
    "msd_subset_data_path = os.path.join(msd_subset_path, 'data')\n",
    "msd_subset_addf_path = os.path.join(msd_subset_path, 'AdditionalFiles')"
   ]
  },
  {
   "cell_type": "code",
   "execution_count": 3,
   "metadata": {},
   "outputs": [],
   "source": [
    "# Create a mapping of the getter functions available in the hdf5_getters\n",
    "# library and the names we want to assign their return value to. This\n",
    "# defines the schema we want to export\n",
    "\n",
    "getter_func_names = list(filter(lambda x: x.startswith('get'), dir(hdf5_getters)))\n",
    "getter_mapping = {x[4:]:x for x in getter_func_names}\n",
    "pprint(getter_mapping)\n"
   ]
  },
  {
   "cell_type": "code",
   "execution_count": 26,
   "metadata": {},
   "outputs": [],
   "source": [
    "# functions\n",
    "\n",
    "def apply_to_all_tracks(basedir, func, ext='.h5'):\n",
    "    \"\"\"\n",
    "    Walk the directoy and apply a given function to a track file.\n",
    "    \"\"\"\n",
    "    cnt = 0\n",
    "    data = []\n",
    "    for root, dirs, files in os.walk(basedir):\n",
    "        files = glob.glob(os.path.join(root, '*' + ext))\n",
    "        for f in files:\n",
    "            data.append(func(f))\n",
    "            cnt += 1\n",
    "            print(cnt)\n",
    "    return (data, cnt)\n",
    "\n",
    "\n",
    "def get_song_attr(file_name):\n",
    "    \"\"\"\n",
    "    Apply all possible getters to a track file. this completely exports\n",
    "    all of the data for a given track file.\n",
    "    \"\"\"\n",
    "    f = hdf5_getters.open_h5_file_read(file_name)\n",
    "    data = {}\n",
    "    \n",
    "    for attr_name, func_name in getter_mapping.iteritems():\n",
    "        data[attr_name] = getattr(hdf5_getters, func_name)(f)\n",
    "    f.close()\n",
    "    return data\n",
    "    \n"
   ]
  },
  {
   "cell_type": "code",
   "execution_count": 22,
   "metadata": {},
   "outputs": [],
   "source": [
    "# try it out for a single file\n",
    "\n",
    "FILE_PATH = os.path.join(msd_subset_data_path, 'A/A/A/TRAAAAW128F429D538.h5')\n",
    "\n",
    "song = get_song_attr(FILE_PATH)\n",
    "\n",
    "pprint(song)"
   ]
  },
  {
   "cell_type": "code",
   "execution_count": 28,
   "metadata": {},
   "outputs": [],
   "source": [
    "# now lets create a single json file of this all of the data.\n",
    "# This will be used to seed our postgres database. This will\n",
    "# take forever, don't do this in a notebook.\n",
    "\n",
    "#data, cnt = apply_to_all_tracks(msd_subset_data_path, get_song_attr)\n",
    "#print 'Exported {} songs'.format(cnt)"
   ]
  },
  {
   "cell_type": "code",
   "execution_count": null,
   "metadata": {},
   "outputs": [],
   "source": []
  }
 ],
 "metadata": {
  "kernelspec": {
   "display_name": "Python 3",
   "language": "python",
   "name": "python3"
  },
  "language_info": {
   "codemirror_mode": {
    "name": "ipython",
    "version": 3
   },
   "file_extension": ".py",
   "mimetype": "text/x-python",
   "name": "python",
   "nbconvert_exporter": "python",
   "pygments_lexer": "ipython3",
   "version": "3.7.2"
  }
 },
 "nbformat": 4,
 "nbformat_minor": 2
}
